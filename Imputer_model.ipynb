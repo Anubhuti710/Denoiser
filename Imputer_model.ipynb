{
  "nbformat": 4,
  "nbformat_minor": 0,
  "metadata": {
    "colab": {
      "provenance": [],
      "gpuType": "T4",
      "authorship_tag": "ABX9TyM/zunvKdEtfKnFmK0MV7qM",
      "include_colab_link": true
    },
    "kernelspec": {
      "name": "python3",
      "display_name": "Python 3"
    },
    "language_info": {
      "name": "python"
    },
    "accelerator": "GPU"
  },
  "cells": [
    {
      "cell_type": "markdown",
      "metadata": {
        "id": "view-in-github",
        "colab_type": "text"
      },
      "source": [
        "<a href=\"https://colab.research.google.com/github/Anubhuti710/Denoiser/blob/main/Imputer_model.ipynb\" target=\"_parent\"><img src=\"https://colab.research.google.com/assets/colab-badge.svg\" alt=\"Open In Colab\"/></a>"
      ]
    },
    {
      "cell_type": "code",
      "execution_count": 1,
      "metadata": {
        "colab": {
          "base_uri": "https://localhost:8080/"
        },
        "id": "hfRfsGwAnOSW",
        "outputId": "dd607b84-1810-4bcc-9be2-f3ee09445009"
      },
      "outputs": [
        {
          "output_type": "stream",
          "name": "stdout",
          "text": [
            "Requirement already satisfied: wandb in /usr/local/lib/python3.11/dist-packages (0.19.8)\n",
            "Requirement already satisfied: torch in /usr/local/lib/python3.11/dist-packages (2.6.0+cu124)\n",
            "Requirement already satisfied: torchvision in /usr/local/lib/python3.11/dist-packages (0.21.0+cu124)\n",
            "Requirement already satisfied: torchaudio in /usr/local/lib/python3.11/dist-packages (2.6.0+cu124)\n",
            "Requirement already satisfied: pandas in /usr/local/lib/python3.11/dist-packages (2.2.2)\n",
            "Requirement already satisfied: numpy in /usr/local/lib/python3.11/dist-packages (2.0.2)\n",
            "Requirement already satisfied: matplotlib in /usr/local/lib/python3.11/dist-packages (3.10.0)\n",
            "Requirement already satisfied: scikit-learn in /usr/local/lib/python3.11/dist-packages (1.6.1)\n",
            "Requirement already satisfied: xlrd in /usr/local/lib/python3.11/dist-packages (2.0.1)\n",
            "Requirement already satisfied: click!=8.0.0,>=7.1 in /usr/local/lib/python3.11/dist-packages (from wandb) (8.1.8)\n",
            "Requirement already satisfied: docker-pycreds>=0.4.0 in /usr/local/lib/python3.11/dist-packages (from wandb) (0.4.0)\n",
            "Requirement already satisfied: gitpython!=3.1.29,>=1.0.0 in /usr/local/lib/python3.11/dist-packages (from wandb) (3.1.44)\n",
            "Requirement already satisfied: platformdirs in /usr/local/lib/python3.11/dist-packages (from wandb) (4.3.7)\n",
            "Requirement already satisfied: protobuf!=4.21.0,!=5.28.0,<6,>=3.19.0 in /usr/local/lib/python3.11/dist-packages (from wandb) (5.29.4)\n",
            "Requirement already satisfied: psutil>=5.0.0 in /usr/local/lib/python3.11/dist-packages (from wandb) (5.9.5)\n",
            "Requirement already satisfied: pydantic<3,>=2.6 in /usr/local/lib/python3.11/dist-packages (from wandb) (2.11.0)\n",
            "Requirement already satisfied: pyyaml in /usr/local/lib/python3.11/dist-packages (from wandb) (6.0.2)\n",
            "Requirement already satisfied: requests<3,>=2.0.0 in /usr/local/lib/python3.11/dist-packages (from wandb) (2.32.3)\n",
            "Requirement already satisfied: sentry-sdk>=2.0.0 in /usr/local/lib/python3.11/dist-packages (from wandb) (2.24.1)\n",
            "Requirement already satisfied: setproctitle in /usr/local/lib/python3.11/dist-packages (from wandb) (1.3.5)\n",
            "Requirement already satisfied: setuptools in /usr/local/lib/python3.11/dist-packages (from wandb) (75.2.0)\n",
            "Requirement already satisfied: typing-extensions<5,>=4.4 in /usr/local/lib/python3.11/dist-packages (from wandb) (4.13.0)\n",
            "Requirement already satisfied: filelock in /usr/local/lib/python3.11/dist-packages (from torch) (3.18.0)\n",
            "Requirement already satisfied: networkx in /usr/local/lib/python3.11/dist-packages (from torch) (3.4.2)\n",
            "Requirement already satisfied: jinja2 in /usr/local/lib/python3.11/dist-packages (from torch) (3.1.6)\n",
            "Requirement already satisfied: fsspec in /usr/local/lib/python3.11/dist-packages (from torch) (2025.3.0)\n",
            "Requirement already satisfied: nvidia-cuda-nvrtc-cu12==12.4.127 in /usr/local/lib/python3.11/dist-packages (from torch) (12.4.127)\n",
            "Requirement already satisfied: nvidia-cuda-runtime-cu12==12.4.127 in /usr/local/lib/python3.11/dist-packages (from torch) (12.4.127)\n",
            "Requirement already satisfied: nvidia-cuda-cupti-cu12==12.4.127 in /usr/local/lib/python3.11/dist-packages (from torch) (12.4.127)\n",
            "Requirement already satisfied: nvidia-cudnn-cu12==9.1.0.70 in /usr/local/lib/python3.11/dist-packages (from torch) (9.1.0.70)\n",
            "Requirement already satisfied: nvidia-cublas-cu12==12.4.5.8 in /usr/local/lib/python3.11/dist-packages (from torch) (12.4.5.8)\n",
            "Requirement already satisfied: nvidia-cufft-cu12==11.2.1.3 in /usr/local/lib/python3.11/dist-packages (from torch) (11.2.1.3)\n",
            "Requirement already satisfied: nvidia-curand-cu12==10.3.5.147 in /usr/local/lib/python3.11/dist-packages (from torch) (10.3.5.147)\n",
            "Requirement already satisfied: nvidia-cusolver-cu12==11.6.1.9 in /usr/local/lib/python3.11/dist-packages (from torch) (11.6.1.9)\n",
            "Requirement already satisfied: nvidia-cusparse-cu12==12.3.1.170 in /usr/local/lib/python3.11/dist-packages (from torch) (12.3.1.170)\n",
            "Requirement already satisfied: nvidia-cusparselt-cu12==0.6.2 in /usr/local/lib/python3.11/dist-packages (from torch) (0.6.2)\n",
            "Requirement already satisfied: nvidia-nccl-cu12==2.21.5 in /usr/local/lib/python3.11/dist-packages (from torch) (2.21.5)\n",
            "Requirement already satisfied: nvidia-nvtx-cu12==12.4.127 in /usr/local/lib/python3.11/dist-packages (from torch) (12.4.127)\n",
            "Requirement already satisfied: nvidia-nvjitlink-cu12==12.4.127 in /usr/local/lib/python3.11/dist-packages (from torch) (12.4.127)\n",
            "Requirement already satisfied: triton==3.2.0 in /usr/local/lib/python3.11/dist-packages (from torch) (3.2.0)\n",
            "Requirement already satisfied: sympy==1.13.1 in /usr/local/lib/python3.11/dist-packages (from torch) (1.13.1)\n",
            "Requirement already satisfied: mpmath<1.4,>=1.1.0 in /usr/local/lib/python3.11/dist-packages (from sympy==1.13.1->torch) (1.3.0)\n",
            "Requirement already satisfied: pillow!=8.3.*,>=5.3.0 in /usr/local/lib/python3.11/dist-packages (from torchvision) (11.1.0)\n",
            "Requirement already satisfied: python-dateutil>=2.8.2 in /usr/local/lib/python3.11/dist-packages (from pandas) (2.8.2)\n",
            "Requirement already satisfied: pytz>=2020.1 in /usr/local/lib/python3.11/dist-packages (from pandas) (2025.2)\n",
            "Requirement already satisfied: tzdata>=2022.7 in /usr/local/lib/python3.11/dist-packages (from pandas) (2025.2)\n",
            "Requirement already satisfied: contourpy>=1.0.1 in /usr/local/lib/python3.11/dist-packages (from matplotlib) (1.3.1)\n",
            "Requirement already satisfied: cycler>=0.10 in /usr/local/lib/python3.11/dist-packages (from matplotlib) (0.12.1)\n",
            "Requirement already satisfied: fonttools>=4.22.0 in /usr/local/lib/python3.11/dist-packages (from matplotlib) (4.56.0)\n",
            "Requirement already satisfied: kiwisolver>=1.3.1 in /usr/local/lib/python3.11/dist-packages (from matplotlib) (1.4.8)\n",
            "Requirement already satisfied: packaging>=20.0 in /usr/local/lib/python3.11/dist-packages (from matplotlib) (24.2)\n",
            "Requirement already satisfied: pyparsing>=2.3.1 in /usr/local/lib/python3.11/dist-packages (from matplotlib) (3.2.3)\n",
            "Requirement already satisfied: scipy>=1.6.0 in /usr/local/lib/python3.11/dist-packages (from scikit-learn) (1.14.1)\n",
            "Requirement already satisfied: joblib>=1.2.0 in /usr/local/lib/python3.11/dist-packages (from scikit-learn) (1.4.2)\n",
            "Requirement already satisfied: threadpoolctl>=3.1.0 in /usr/local/lib/python3.11/dist-packages (from scikit-learn) (3.6.0)\n",
            "Requirement already satisfied: six>=1.4.0 in /usr/local/lib/python3.11/dist-packages (from docker-pycreds>=0.4.0->wandb) (1.17.0)\n",
            "Requirement already satisfied: gitdb<5,>=4.0.1 in /usr/local/lib/python3.11/dist-packages (from gitpython!=3.1.29,>=1.0.0->wandb) (4.0.12)\n",
            "Requirement already satisfied: annotated-types>=0.6.0 in /usr/local/lib/python3.11/dist-packages (from pydantic<3,>=2.6->wandb) (0.7.0)\n",
            "Requirement already satisfied: pydantic-core==2.33.0 in /usr/local/lib/python3.11/dist-packages (from pydantic<3,>=2.6->wandb) (2.33.0)\n",
            "Requirement already satisfied: typing-inspection>=0.4.0 in /usr/local/lib/python3.11/dist-packages (from pydantic<3,>=2.6->wandb) (0.4.0)\n",
            "Requirement already satisfied: charset-normalizer<4,>=2 in /usr/local/lib/python3.11/dist-packages (from requests<3,>=2.0.0->wandb) (3.4.1)\n",
            "Requirement already satisfied: idna<4,>=2.5 in /usr/local/lib/python3.11/dist-packages (from requests<3,>=2.0.0->wandb) (3.10)\n",
            "Requirement already satisfied: urllib3<3,>=1.21.1 in /usr/local/lib/python3.11/dist-packages (from requests<3,>=2.0.0->wandb) (2.3.0)\n",
            "Requirement already satisfied: certifi>=2017.4.17 in /usr/local/lib/python3.11/dist-packages (from requests<3,>=2.0.0->wandb) (2025.1.31)\n",
            "Requirement already satisfied: MarkupSafe>=2.0 in /usr/local/lib/python3.11/dist-packages (from jinja2->torch) (3.0.2)\n",
            "Requirement already satisfied: smmap<6,>=3.0.1 in /usr/local/lib/python3.11/dist-packages (from gitdb<5,>=4.0.1->gitpython!=3.1.29,>=1.0.0->wandb) (5.0.2)\n",
            "Requirement already satisfied: pyts in /usr/local/lib/python3.11/dist-packages (0.13.0)\n",
            "Requirement already satisfied: numpy>=1.22.4 in /usr/local/lib/python3.11/dist-packages (from pyts) (2.0.2)\n",
            "Requirement already satisfied: scipy>=1.8.1 in /usr/local/lib/python3.11/dist-packages (from pyts) (1.14.1)\n",
            "Requirement already satisfied: scikit-learn>=1.2.0 in /usr/local/lib/python3.11/dist-packages (from pyts) (1.6.1)\n",
            "Requirement already satisfied: joblib>=1.1.1 in /usr/local/lib/python3.11/dist-packages (from pyts) (1.4.2)\n",
            "Requirement already satisfied: numba>=0.55.2 in /usr/local/lib/python3.11/dist-packages (from pyts) (0.60.0)\n",
            "Requirement already satisfied: llvmlite<0.44,>=0.43.0dev0 in /usr/local/lib/python3.11/dist-packages (from numba>=0.55.2->pyts) (0.43.0)\n",
            "Requirement already satisfied: threadpoolctl>=3.1.0 in /usr/local/lib/python3.11/dist-packages (from scikit-learn>=1.2.0->pyts) (3.6.0)\n",
            "Requirement already satisfied: diffusers in /usr/local/lib/python3.11/dist-packages (0.32.2)\n",
            "Requirement already satisfied: importlib-metadata in /usr/local/lib/python3.11/dist-packages (from diffusers) (8.6.1)\n",
            "Requirement already satisfied: filelock in /usr/local/lib/python3.11/dist-packages (from diffusers) (3.18.0)\n",
            "Requirement already satisfied: huggingface-hub>=0.23.2 in /usr/local/lib/python3.11/dist-packages (from diffusers) (0.29.3)\n",
            "Requirement already satisfied: numpy in /usr/local/lib/python3.11/dist-packages (from diffusers) (2.0.2)\n",
            "Requirement already satisfied: regex!=2019.12.17 in /usr/local/lib/python3.11/dist-packages (from diffusers) (2024.11.6)\n",
            "Requirement already satisfied: requests in /usr/local/lib/python3.11/dist-packages (from diffusers) (2.32.3)\n",
            "Requirement already satisfied: safetensors>=0.3.1 in /usr/local/lib/python3.11/dist-packages (from diffusers) (0.5.3)\n",
            "Requirement already satisfied: Pillow in /usr/local/lib/python3.11/dist-packages (from diffusers) (11.1.0)\n",
            "Requirement already satisfied: fsspec>=2023.5.0 in /usr/local/lib/python3.11/dist-packages (from huggingface-hub>=0.23.2->diffusers) (2025.3.0)\n",
            "Requirement already satisfied: packaging>=20.9 in /usr/local/lib/python3.11/dist-packages (from huggingface-hub>=0.23.2->diffusers) (24.2)\n",
            "Requirement already satisfied: pyyaml>=5.1 in /usr/local/lib/python3.11/dist-packages (from huggingface-hub>=0.23.2->diffusers) (6.0.2)\n",
            "Requirement already satisfied: tqdm>=4.42.1 in /usr/local/lib/python3.11/dist-packages (from huggingface-hub>=0.23.2->diffusers) (4.67.1)\n",
            "Requirement already satisfied: typing-extensions>=3.7.4.3 in /usr/local/lib/python3.11/dist-packages (from huggingface-hub>=0.23.2->diffusers) (4.13.0)\n",
            "Requirement already satisfied: zipp>=3.20 in /usr/local/lib/python3.11/dist-packages (from importlib-metadata->diffusers) (3.21.0)\n",
            "Requirement already satisfied: charset-normalizer<4,>=2 in /usr/local/lib/python3.11/dist-packages (from requests->diffusers) (3.4.1)\n",
            "Requirement already satisfied: idna<4,>=2.5 in /usr/local/lib/python3.11/dist-packages (from requests->diffusers) (3.10)\n",
            "Requirement already satisfied: urllib3<3,>=1.21.1 in /usr/local/lib/python3.11/dist-packages (from requests->diffusers) (2.3.0)\n",
            "Requirement already satisfied: certifi>=2017.4.17 in /usr/local/lib/python3.11/dist-packages (from requests->diffusers) (2025.1.31)\n"
          ]
        },
        {
          "output_type": "stream",
          "name": "stderr",
          "text": [
            "\u001b[34m\u001b[1mwandb\u001b[0m: Using wandb-core as the SDK backend.  Please refer to https://wandb.me/wandb-core for more information.\n",
            "\u001b[34m\u001b[1mwandb\u001b[0m: Currently logged in as: \u001b[33mhiteshwaripatel408\u001b[0m (\u001b[33mhiteshwaripatel408-sardar-vallabhbhai-national-institute\u001b[0m) to \u001b[32mhttps://api.wandb.ai\u001b[0m. Use \u001b[1m`wandb login --relogin`\u001b[0m to force relogin\n"
          ]
        },
        {
          "output_type": "execute_result",
          "data": {
            "text/plain": [
              "True"
            ]
          },
          "metadata": {},
          "execution_count": 1
        }
      ],
      "source": [
        "#  Install required packages\n",
        "!pip install wandb torch torchvision torchaudio pandas numpy matplotlib scikit-learn xlrd\n",
        "!pip install pyts  # For time series processing\n",
        "!pip install diffusers  # For diffusion models\n",
        "\n",
        "import wandb\n",
        "wandb.login()"
      ]
    },
    {
      "cell_type": "code",
      "source": [
        "# Load and prepare exchange_rate data\n",
        "import pandas as pd\n",
        "import numpy as np\n",
        "from google.colab import files\n",
        "\n",
        "# Upload the file\n",
        "uploaded = files.upload()\n",
        "filename = list(uploaded.keys())[0]\n",
        "\n",
        "# Load data\n",
        "df = pd.read_csv(filename)\n",
        "data = df.values  # Convert to numpy array\n",
        "print(f\"Data shape: {data.shape}\")\n",
        "print(\"First 5 rows:\")\n",
        "print(data[:5])"
      ],
      "metadata": {
        "colab": {
          "base_uri": "https://localhost:8080/",
          "height": 280
        },
        "id": "bMiHpZL5oxWs",
        "outputId": "43a4eeca-f769-421c-a93a-6ad6aa65138a"
      },
      "execution_count": 2,
      "outputs": [
        {
          "output_type": "display_data",
          "data": {
            "text/plain": [
              "<IPython.core.display.HTML object>"
            ],
            "text/html": [
              "\n",
              "     <input type=\"file\" id=\"files-cfb85160-4546-4400-9223-e07230352b79\" name=\"files[]\" multiple disabled\n",
              "        style=\"border:none\" />\n",
              "     <output id=\"result-cfb85160-4546-4400-9223-e07230352b79\">\n",
              "      Upload widget is only available when the cell has been executed in the\n",
              "      current browser session. Please rerun this cell to enable.\n",
              "      </output>\n",
              "      <script>// Copyright 2017 Google LLC\n",
              "//\n",
              "// Licensed under the Apache License, Version 2.0 (the \"License\");\n",
              "// you may not use this file except in compliance with the License.\n",
              "// You may obtain a copy of the License at\n",
              "//\n",
              "//      http://www.apache.org/licenses/LICENSE-2.0\n",
              "//\n",
              "// Unless required by applicable law or agreed to in writing, software\n",
              "// distributed under the License is distributed on an \"AS IS\" BASIS,\n",
              "// WITHOUT WARRANTIES OR CONDITIONS OF ANY KIND, either express or implied.\n",
              "// See the License for the specific language governing permissions and\n",
              "// limitations under the License.\n",
              "\n",
              "/**\n",
              " * @fileoverview Helpers for google.colab Python module.\n",
              " */\n",
              "(function(scope) {\n",
              "function span(text, styleAttributes = {}) {\n",
              "  const element = document.createElement('span');\n",
              "  element.textContent = text;\n",
              "  for (const key of Object.keys(styleAttributes)) {\n",
              "    element.style[key] = styleAttributes[key];\n",
              "  }\n",
              "  return element;\n",
              "}\n",
              "\n",
              "// Max number of bytes which will be uploaded at a time.\n",
              "const MAX_PAYLOAD_SIZE = 100 * 1024;\n",
              "\n",
              "function _uploadFiles(inputId, outputId) {\n",
              "  const steps = uploadFilesStep(inputId, outputId);\n",
              "  const outputElement = document.getElementById(outputId);\n",
              "  // Cache steps on the outputElement to make it available for the next call\n",
              "  // to uploadFilesContinue from Python.\n",
              "  outputElement.steps = steps;\n",
              "\n",
              "  return _uploadFilesContinue(outputId);\n",
              "}\n",
              "\n",
              "// This is roughly an async generator (not supported in the browser yet),\n",
              "// where there are multiple asynchronous steps and the Python side is going\n",
              "// to poll for completion of each step.\n",
              "// This uses a Promise to block the python side on completion of each step,\n",
              "// then passes the result of the previous step as the input to the next step.\n",
              "function _uploadFilesContinue(outputId) {\n",
              "  const outputElement = document.getElementById(outputId);\n",
              "  const steps = outputElement.steps;\n",
              "\n",
              "  const next = steps.next(outputElement.lastPromiseValue);\n",
              "  return Promise.resolve(next.value.promise).then((value) => {\n",
              "    // Cache the last promise value to make it available to the next\n",
              "    // step of the generator.\n",
              "    outputElement.lastPromiseValue = value;\n",
              "    return next.value.response;\n",
              "  });\n",
              "}\n",
              "\n",
              "/**\n",
              " * Generator function which is called between each async step of the upload\n",
              " * process.\n",
              " * @param {string} inputId Element ID of the input file picker element.\n",
              " * @param {string} outputId Element ID of the output display.\n",
              " * @return {!Iterable<!Object>} Iterable of next steps.\n",
              " */\n",
              "function* uploadFilesStep(inputId, outputId) {\n",
              "  const inputElement = document.getElementById(inputId);\n",
              "  inputElement.disabled = false;\n",
              "\n",
              "  const outputElement = document.getElementById(outputId);\n",
              "  outputElement.innerHTML = '';\n",
              "\n",
              "  const pickedPromise = new Promise((resolve) => {\n",
              "    inputElement.addEventListener('change', (e) => {\n",
              "      resolve(e.target.files);\n",
              "    });\n",
              "  });\n",
              "\n",
              "  const cancel = document.createElement('button');\n",
              "  inputElement.parentElement.appendChild(cancel);\n",
              "  cancel.textContent = 'Cancel upload';\n",
              "  const cancelPromise = new Promise((resolve) => {\n",
              "    cancel.onclick = () => {\n",
              "      resolve(null);\n",
              "    };\n",
              "  });\n",
              "\n",
              "  // Wait for the user to pick the files.\n",
              "  const files = yield {\n",
              "    promise: Promise.race([pickedPromise, cancelPromise]),\n",
              "    response: {\n",
              "      action: 'starting',\n",
              "    }\n",
              "  };\n",
              "\n",
              "  cancel.remove();\n",
              "\n",
              "  // Disable the input element since further picks are not allowed.\n",
              "  inputElement.disabled = true;\n",
              "\n",
              "  if (!files) {\n",
              "    return {\n",
              "      response: {\n",
              "        action: 'complete',\n",
              "      }\n",
              "    };\n",
              "  }\n",
              "\n",
              "  for (const file of files) {\n",
              "    const li = document.createElement('li');\n",
              "    li.append(span(file.name, {fontWeight: 'bold'}));\n",
              "    li.append(span(\n",
              "        `(${file.type || 'n/a'}) - ${file.size} bytes, ` +\n",
              "        `last modified: ${\n",
              "            file.lastModifiedDate ? file.lastModifiedDate.toLocaleDateString() :\n",
              "                                    'n/a'} - `));\n",
              "    const percent = span('0% done');\n",
              "    li.appendChild(percent);\n",
              "\n",
              "    outputElement.appendChild(li);\n",
              "\n",
              "    const fileDataPromise = new Promise((resolve) => {\n",
              "      const reader = new FileReader();\n",
              "      reader.onload = (e) => {\n",
              "        resolve(e.target.result);\n",
              "      };\n",
              "      reader.readAsArrayBuffer(file);\n",
              "    });\n",
              "    // Wait for the data to be ready.\n",
              "    let fileData = yield {\n",
              "      promise: fileDataPromise,\n",
              "      response: {\n",
              "        action: 'continue',\n",
              "      }\n",
              "    };\n",
              "\n",
              "    // Use a chunked sending to avoid message size limits. See b/62115660.\n",
              "    let position = 0;\n",
              "    do {\n",
              "      const length = Math.min(fileData.byteLength - position, MAX_PAYLOAD_SIZE);\n",
              "      const chunk = new Uint8Array(fileData, position, length);\n",
              "      position += length;\n",
              "\n",
              "      const base64 = btoa(String.fromCharCode.apply(null, chunk));\n",
              "      yield {\n",
              "        response: {\n",
              "          action: 'append',\n",
              "          file: file.name,\n",
              "          data: base64,\n",
              "        },\n",
              "      };\n",
              "\n",
              "      let percentDone = fileData.byteLength === 0 ?\n",
              "          100 :\n",
              "          Math.round((position / fileData.byteLength) * 100);\n",
              "      percent.textContent = `${percentDone}% done`;\n",
              "\n",
              "    } while (position < fileData.byteLength);\n",
              "  }\n",
              "\n",
              "  // All done.\n",
              "  yield {\n",
              "    response: {\n",
              "      action: 'complete',\n",
              "    }\n",
              "  };\n",
              "}\n",
              "\n",
              "scope.google = scope.google || {};\n",
              "scope.google.colab = scope.google.colab || {};\n",
              "scope.google.colab._files = {\n",
              "  _uploadFiles,\n",
              "  _uploadFilesContinue,\n",
              "};\n",
              "})(self);\n",
              "</script> "
            ]
          },
          "metadata": {}
        },
        {
          "output_type": "stream",
          "name": "stdout",
          "text": [
            "Saving exchange_rate.csv to exchange_rate (1).csv\n",
            "Data shape: (7588, 9)\n",
            "First 5 rows:\n",
            "[['1990/1/1 0:00' 0.7855 1.611 0.861698 0.634196 0.211242 0.006838\n",
            "  0.525486 0.593]\n",
            " ['1990/1/2 0:00' 0.7818 1.61 0.861104 0.633513 0.211242 0.006863\n",
            "  0.523972 0.594]\n",
            " ['1990/1/3 0:00' 0.7867 1.6293 0.86103 0.648508 0.211242 0.006975\n",
            "  0.526316 0.5973]\n",
            " ['1990/1/4 0:00' 0.786 1.637 0.862069 0.650618 0.211242 0.006953\n",
            "  0.523834 0.597]\n",
            " ['1990/1/5 0:00' 0.7849 1.653 0.861995 0.656254 0.211242 0.00694\n",
            "  0.527426 0.5985]]\n"
          ]
        }
      ]
    },
    {
      "cell_type": "code",
      "source": [
        "# Data preprocessing\n",
        "from sklearn.preprocessing import MinMaxScaler\n",
        "from sklearn.model_selection import train_test_split\n",
        "\n",
        "# Load data again to be safe\n",
        "df = pd.read_csv(filename)\n",
        "\n",
        "# Check the first few rows to identify date column\n",
        "print(\"Original data columns:\")\n",
        "print(df.head())\n",
        "\n",
        "# Assuming the first column is the date column, we'll separate it\n",
        "dates = df.iloc[:, 0]  # Save dates for reference if needed\n",
        "numeric_data = df.iloc[:, 1:]  # Use only numeric columns\n",
        "\n",
        "# Convert numeric columns to float (in case there are other non-numeric columns)\n",
        "numeric_data = numeric_data.apply(pd.to_numeric, errors='coerce')\n",
        "\n",
        "# Drop any rows with NaN values that might have been created\n",
        "numeric_data = numeric_data.dropna()\n",
        "\n",
        "# Normalize data\n",
        "scaler = MinMaxScaler()\n",
        "scaled_data = scaler.fit_transform(numeric_data)\n",
        "\n",
        "# Split into train and test\n",
        "train_data, test_data = train_test_split(scaled_data, test_size=0.2, shuffle=False)\n",
        "print(f\"\\nProcessed data shapes:\")\n",
        "print(f\"Train shape: {train_data.shape}, Test shape: {test_data.shape}\")\n",
        "print(\"\\nSample of scaled data:\")\n",
        "print(train_data[:5])"
      ],
      "metadata": {
        "colab": {
          "base_uri": "https://localhost:8080/"
        },
        "id": "W_q-d6bmo6In",
        "outputId": "e443f4db-1343-4008-e1f8-7f96b7ef8de9"
      },
      "execution_count": 3,
      "outputs": [
        {
          "output_type": "stream",
          "name": "stdout",
          "text": [
            "Original data columns:\n",
            "            date       0       1         2         3         4         5  \\\n",
            "0  1990/1/1 0:00  0.7855  1.6110  0.861698  0.634196  0.211242  0.006838   \n",
            "1  1990/1/2 0:00  0.7818  1.6100  0.861104  0.633513  0.211242  0.006863   \n",
            "2  1990/1/3 0:00  0.7867  1.6293  0.861030  0.648508  0.211242  0.006975   \n",
            "3  1990/1/4 0:00  0.7860  1.6370  0.862069  0.650618  0.211242  0.006953   \n",
            "4  1990/1/5 0:00  0.7849  1.6530  0.861995  0.656254  0.211242  0.006940   \n",
            "\n",
            "          6      OT  \n",
            "0  0.525486  0.5930  \n",
            "1  0.523972  0.5940  \n",
            "2  0.526316  0.5973  \n",
            "3  0.523834  0.5970  \n",
            "4  0.527426  0.5985  \n",
            "\n",
            "Processed data shapes:\n",
            "Train shape: (6070, 8), Test shape: (1518, 8)\n",
            "\n",
            "Sample of scaled data:\n",
            "[[4.88023203e-01 4.45104327e-01 5.14050349e-01 1.03674064e-01\n",
            "  7.92386252e-01 8.40529649e-02 5.35109257e-03 4.08496278e-01]\n",
            " [4.82048127e-01 4.43990079e-01 5.12794381e-01 1.02846648e-01\n",
            "  7.92386252e-01 8.76511226e-02 4.47004101e-04 4.10540323e-01]\n",
            " [4.89961065e-01 4.65495072e-01 5.12637913e-01 1.21012233e-01\n",
            "  7.92386252e-01 1.03770869e-01 8.03959549e-03 4.17285672e-01]\n",
            " [4.88830645e-01 4.74074784e-01 5.14834800e-01 1.23568377e-01\n",
            "  7.92386252e-01 1.00604491e-01 0.00000000e+00 4.16672458e-01]\n",
            " [4.87054271e-01 4.91902757e-01 5.14678333e-01 1.30396069e-01\n",
            "  7.92386252e-01 9.87334485e-02 1.16350633e-02 4.19738526e-01]]\n"
          ]
        }
      ]
    },
    {
      "cell_type": "code",
      "source": [
        "#  Transformer Encoder Model\n",
        "import torch\n",
        "import torch.nn as nn\n",
        "\n",
        "class TransformerImputer(nn.Module):\n",
        "    def __init__(self, input_dim, seq_len=96, d_model=64, nhead=4, num_layers=3):\n",
        "        super().__init__()\n",
        "        self.embedding = nn.Linear(input_dim, d_model)\n",
        "        encoder_layer = nn.TransformerEncoderLayer(d_model=d_model, nhead=nhead)\n",
        "        self.transformer = nn.TransformerEncoder(encoder_layer, num_layers=num_layers)\n",
        "        self.output = nn.Linear(d_model, input_dim)\n",
        "        self.seq_len = seq_len\n",
        "\n",
        "    def forward(self, x, mask):\n",
        "        # x: (batch, seq_len, input_dim)\n",
        "        # mask: (batch, seq_len, input_dim)\n",
        "        masked_x = x * (1 - mask)  # Zero out masked values\n",
        "        x_embed = self.embedding(masked_x)\n",
        "        x_embed = x_embed.permute(1, 0, 2)  # (seq_len, batch, d_model)\n",
        "        output = self.transformer(x_embed)\n",
        "        output = output.permute(1, 0, 2)  # (batch, seq_len, d_model)\n",
        "        output = self.output(output)\n",
        "        return output"
      ],
      "metadata": {
        "id": "6YB_zraMo-z7"
      },
      "execution_count": 4,
      "outputs": []
    },
    {
      "cell_type": "code",
      "source": [
        "#  Debugging\n",
        "print(\"=== DEBUG MODE ===\")\n",
        "\n",
        "# 1. Force CPU and tiny data\n",
        "device = torch.device(\"cpu\")\n",
        "train_data_debug = np.random.rand(100, 8)  # 100 fake samples\n",
        "print(f\"Debug data shape: {train_data_debug.shape}\")\n",
        "\n",
        "# 2. Minimal model test\n",
        "model = TransformerImputer(input_dim=8).to(device)\n",
        "test_input = torch.rand(1, 96, 8)  # (batch, seq_len, features)\n",
        "test_mask = (torch.rand(1, 96, 8) > 0.9).float()  # 10% mask\n",
        "print(f\"Test input shape: {test_input.shape}\")\n",
        "print(f\"Test mask sum: {test_mask.sum().item()} (should be ~77 for 10% of 768)\")\n",
        "\n",
        "# 3. Forward pass test\n",
        "with torch.no_grad():\n",
        "    output = model(test_input, test_mask)\n",
        "    print(f\"Output shape: {output.shape}\")\n",
        "    print(\"Forward pass worked!\")\n",
        "\n",
        "# 4. One training step\n",
        "optimizer = torch.optim.Adam(model.parameters(), lr=0.001)\n",
        "loss_fn = nn.MSELoss()\n",
        "\n",
        "model.train()\n",
        "optimizer.zero_grad()\n",
        "output = model(test_input, test_mask)\n",
        "loss = loss_fn(output * test_mask, test_input * test_mask)\n",
        "loss.backward()\n",
        "optimizer.step()\n",
        "\n",
        "print(f\"Loss after 1 step: {loss.item():.4f}\")\n",
        "print(\"=== SUCCESS ===\")"
      ],
      "metadata": {
        "colab": {
          "base_uri": "https://localhost:8080/"
        },
        "id": "zNdkoINKpD-b",
        "outputId": "892257a4-7408-4fe0-c2d7-2ad1f24fd790"
      },
      "execution_count": 7,
      "outputs": [
        {
          "output_type": "stream",
          "name": "stdout",
          "text": [
            "=== DEBUG MODE ===\n",
            "Debug data shape: (100, 8)\n",
            "Test input shape: torch.Size([1, 96, 8])\n",
            "Test mask sum: 72.0 (should be ~77 for 10% of 768)\n",
            "Output shape: torch.Size([1, 96, 8])\n",
            "Forward pass worked!\n"
          ]
        },
        {
          "output_type": "stream",
          "name": "stderr",
          "text": [
            "/usr/local/lib/python3.11/dist-packages/torch/nn/modules/transformer.py:385: UserWarning: enable_nested_tensor is True, but self.use_nested_tensor is False because encoder_layer.self_attn.batch_first was not True(use batch_first for better inference performance)\n",
            "  warnings.warn(\n"
          ]
        },
        {
          "output_type": "stream",
          "name": "stdout",
          "text": [
            "Loss after 1 step: 0.0817\n",
            "=== SUCCESS ===\n"
          ]
        }
      ]
    },
    {
      "cell_type": "code",
      "source": [
        "# Complete Fixed Implementation with W&B Sweep\n",
        "import wandb\n",
        "import torch\n",
        "import numpy as np\n",
        "from torch import nn\n",
        "\n",
        "# 1. Data Preparation (must run before sweep)\n",
        "def prepare_data(data, seq_len=96):\n",
        "    num_samples = len(data) - seq_len\n",
        "    x = torch.FloatTensor(np.array([data[i:i+seq_len] for i in range(num_samples)]))\n",
        "    return x\n",
        "\n",
        "# Split your data first (add this before sweep)\n",
        "x_full = prepare_data(train_data)  # Using your preprocessed train_data\n",
        "x_train = x_full[:int(0.8*len(x_full))]  # 80% train\n",
        "x_val = x_full[int(0.8*len(x_full)):]    # 20% val\n",
        "\n",
        "# 2. Training Function with Error Handling\n",
        "def train_with_sweep():\n",
        "    try:\n",
        "        wandb.init()  # No need for project/entity in sweep agent\n",
        "\n",
        "        config = wandb.config\n",
        "        device = torch.device(\"cuda\" if torch.cuda.is_available() else \"cpu\")\n",
        "\n",
        "        # Model with sweep parameters\n",
        "        model = TransformerImputer(\n",
        "            input_dim=train_data.shape[1],\n",
        "            d_model=config.d_model,\n",
        "            nhead=config.nhead,\n",
        "            num_layers=config.num_layers,\n",
        "            seq_len=96\n",
        "        ).to(device)\n",
        "\n",
        "        optimizer = torch.optim.Adam(model.parameters(), lr=config.lr)\n",
        "        criterion = nn.MSELoss()\n",
        "\n",
        "        # Training loop\n",
        "        for epoch in range(config.epochs):\n",
        "            model.train()\n",
        "            epoch_loss = 0\n",
        "\n",
        "            # Shuffle batches\n",
        "            indices = torch.randperm(len(x_train))\n",
        "\n",
        "            for i in range(0, len(x_train), config.batch_size):\n",
        "                batch_idx = indices[i:i+config.batch_size]\n",
        "                batch = x_train[batch_idx].to(device)\n",
        "                mask = (torch.rand(batch.shape) < config.mask_ratio)\n",
        "                mask = mask.float().to(device)\n",
        "\n",
        "                optimizer.zero_grad()\n",
        "                output = model(batch, mask)\n",
        "                loss = criterion(output * mask, batch * mask)\n",
        "                loss.backward()\n",
        "                optimizer.step()\n",
        "\n",
        "                epoch_loss += loss.item()\n",
        "\n",
        "            # Validation\n",
        "            val_loss = 0\n",
        "            model.eval()\n",
        "            with torch.no_grad():\n",
        "                for i in range(0, len(x_val), config.batch_size):\n",
        "                    val_batch = x_val[i:i+config.batch_size].to(device)\n",
        "                    val_mask = (torch.rand(val_batch.shape) < config.mask_ratio).float().to(device)\n",
        "                    val_loss += criterion(model(val_batch, val_mask) * val_mask, val_batch * val_mask).item()\n",
        "\n",
        "            wandb.log({\n",
        "                \"epoch\": epoch,\n",
        "                \"train_loss\": epoch_loss / (len(x_train) / config.batch_size),\n",
        "                \"val_loss\": val_loss / (len(x_val) / config.batch_size),\n",
        "                \"lr\": optimizer.param_groups[0]['lr']\n",
        "            })\n",
        "\n",
        "    except Exception as e:\n",
        "        print(f\"Error in sweep: {str(e)}\")\n",
        "        raise\n",
        "\n",
        "# 3. Sweep Configuration (use your existing sweep ID)\n",
        "sweep_id = \"rl14t3ul\"  # Your existing sweep ID\n",
        "\n",
        "# 4. Run the agent\n",
        "wandb.agent(sweep_id, train_with_sweep, count=20)"
      ],
      "metadata": {
        "colab": {
          "base_uri": "https://localhost:8080/",
          "height": 1000
        },
        "id": "Fem8ZOuluZl4",
        "outputId": "845505d9-803b-447a-9b9f-37d58e064ad3"
      },
      "execution_count": 10,
      "outputs": [
        {
          "metadata": {
            "tags": null
          },
          "name": "stderr",
          "output_type": "stream",
          "text": [
            "\u001b[34m\u001b[1mwandb\u001b[0m: Agent Starting Run: xju80vky with config:\n",
            "\u001b[34m\u001b[1mwandb\u001b[0m: \tbatch_size: 32\n",
            "\u001b[34m\u001b[1mwandb\u001b[0m: \td_model: 64\n",
            "\u001b[34m\u001b[1mwandb\u001b[0m: \tepochs: 50\n",
            "\u001b[34m\u001b[1mwandb\u001b[0m: \tlr: 0.0006008868618954467\n",
            "\u001b[34m\u001b[1mwandb\u001b[0m: \tmask_ratio: 0.3\n",
            "\u001b[34m\u001b[1mwandb\u001b[0m: \tnhead: 8\n",
            "\u001b[34m\u001b[1mwandb\u001b[0m: \tnum_layers: 3\n"
          ]
        },
        {
          "data": {
            "text/html": [
              "Tracking run with wandb version 0.19.8"
            ],
            "text/plain": [
              "<IPython.core.display.HTML object>"
            ]
          },
          "metadata": {},
          "output_type": "display_data"
        },
        {
          "data": {
            "text/html": [
              "Run data is saved locally in <code>/content/wandb/run-20250401_094354-xju80vky</code>"
            ],
            "text/plain": [
              "<IPython.core.display.HTML object>"
            ]
          },
          "metadata": {},
          "output_type": "display_data"
        },
        {
          "data": {
            "text/html": [
              "Syncing run <strong><a href='https://wandb.ai/hiteshwaripatel408-sardar-vallabhbhai-national-institute/time-series-transformer/runs/xju80vky' target=\"_blank\">earnest-sweep-3</a></strong> to <a href='https://wandb.ai/hiteshwaripatel408-sardar-vallabhbhai-national-institute/time-series-transformer' target=\"_blank\">Weights & Biases</a> (<a href='https://wandb.me/developer-guide' target=\"_blank\">docs</a>)<br>Sweep page: <a href='https://wandb.ai/hiteshwaripatel408-sardar-vallabhbhai-national-institute/time-series-transformer/sweeps/rl14t3ul' target=\"_blank\">https://wandb.ai/hiteshwaripatel408-sardar-vallabhbhai-national-institute/time-series-transformer/sweeps/rl14t3ul</a>"
            ],
            "text/plain": [
              "<IPython.core.display.HTML object>"
            ]
          },
          "metadata": {},
          "output_type": "display_data"
        },
        {
          "data": {
            "text/html": [
              " View project at <a href='https://wandb.ai/hiteshwaripatel408-sardar-vallabhbhai-national-institute/time-series-transformer' target=\"_blank\">https://wandb.ai/hiteshwaripatel408-sardar-vallabhbhai-national-institute/time-series-transformer</a>"
            ],
            "text/plain": [
              "<IPython.core.display.HTML object>"
            ]
          },
          "metadata": {},
          "output_type": "display_data"
        },
        {
          "data": {
            "text/html": [
              " View sweep at <a href='https://wandb.ai/hiteshwaripatel408-sardar-vallabhbhai-national-institute/time-series-transformer/sweeps/rl14t3ul' target=\"_blank\">https://wandb.ai/hiteshwaripatel408-sardar-vallabhbhai-national-institute/time-series-transformer/sweeps/rl14t3ul</a>"
            ],
            "text/plain": [
              "<IPython.core.display.HTML object>"
            ]
          },
          "metadata": {},
          "output_type": "display_data"
        },
        {
          "data": {
            "text/html": [
              " View run at <a href='https://wandb.ai/hiteshwaripatel408-sardar-vallabhbhai-national-institute/time-series-transformer/runs/xju80vky' target=\"_blank\">https://wandb.ai/hiteshwaripatel408-sardar-vallabhbhai-national-institute/time-series-transformer/runs/xju80vky</a>"
            ],
            "text/plain": [
              "<IPython.core.display.HTML object>"
            ]
          },
          "metadata": {},
          "output_type": "display_data"
        },
        {
          "data": {
            "text/html": [],
            "text/plain": [
              "<IPython.core.display.HTML object>"
            ]
          },
          "metadata": {},
          "output_type": "display_data"
        },
        {
          "data": {
            "text/html": [
              "<br>    <style><br>        .wandb-row {<br>            display: flex;<br>            flex-direction: row;<br>            flex-wrap: wrap;<br>            justify-content: flex-start;<br>            width: 100%;<br>        }<br>        .wandb-col {<br>            display: flex;<br>            flex-direction: column;<br>            flex-basis: 100%;<br>            flex: 1;<br>            padding: 10px;<br>        }<br>    </style><br><div class=\"wandb-row\"><div class=\"wandb-col\"><h3>Run history:</h3><br/><table class=\"wandb\"><tr><td>epoch</td><td>▁▁▁▁▂▂▂▂▂▃▃▃▃▃▃▄▄▄▄▄▅▅▅▅▅▅▆▆▆▆▆▇▇▇▇▇▇███</td></tr><tr><td>lr</td><td>▁▁▁▁▁▁▁▁▁▁▁▁▁▁▁▁▁▁▁▁▁▁▁▁▁▁▁▁▁▁▁▁▁▁▁▁▁▁▁▁</td></tr><tr><td>train_loss</td><td>█▂▂▁▁▁▁▁▁▁▁▁▁▁▁▁▁▁▁▁▁▁▁▁▁▁▁▁▁▁▁▁▁▁▁▁▁▁▁▁</td></tr><tr><td>val_loss</td><td>▂▁▂▂▁▂▃▃▃▄▅▇▆▆▅▆▆▆▇▇▆▇▇▇▇▇▇█▇▇▇▇▆███████</td></tr></table><br/></div><div class=\"wandb-col\"><h3>Run summary:</h3><br/><table class=\"wandb\"><tr><td>epoch</td><td>49</td></tr><tr><td>lr</td><td>0.0006</td></tr><tr><td>train_loss</td><td>0.00016</td></tr><tr><td>val_loss</td><td>0.01139</td></tr></table><br/></div></div>"
            ],
            "text/plain": [
              "<IPython.core.display.HTML object>"
            ]
          },
          "metadata": {},
          "output_type": "display_data"
        },
        {
          "data": {
            "text/html": [
              " View run <strong style=\"color:#cdcd00\">earnest-sweep-3</strong> at: <a href='https://wandb.ai/hiteshwaripatel408-sardar-vallabhbhai-national-institute/time-series-transformer/runs/xju80vky' target=\"_blank\">https://wandb.ai/hiteshwaripatel408-sardar-vallabhbhai-national-institute/time-series-transformer/runs/xju80vky</a><br> View project at: <a href='https://wandb.ai/hiteshwaripatel408-sardar-vallabhbhai-national-institute/time-series-transformer' target=\"_blank\">https://wandb.ai/hiteshwaripatel408-sardar-vallabhbhai-national-institute/time-series-transformer</a><br>Synced 5 W&B file(s), 0 media file(s), 0 artifact file(s) and 0 other file(s)"
            ],
            "text/plain": [
              "<IPython.core.display.HTML object>"
            ]
          },
          "metadata": {},
          "output_type": "display_data"
        },
        {
          "data": {
            "text/html": [
              "Find logs at: <code>./wandb/run-20250401_094354-xju80vky/logs</code>"
            ],
            "text/plain": [
              "<IPython.core.display.HTML object>"
            ]
          },
          "metadata": {},
          "output_type": "display_data"
        },
        {
          "metadata": {
            "tags": null
          },
          "name": "stderr",
          "output_type": "stream",
          "text": [
            "\u001b[34m\u001b[1mwandb\u001b[0m: Agent Starting Run: xhqqhzw2 with config:\n",
            "\u001b[34m\u001b[1mwandb\u001b[0m: \tbatch_size: 64\n",
            "\u001b[34m\u001b[1mwandb\u001b[0m: \td_model: 64\n",
            "\u001b[34m\u001b[1mwandb\u001b[0m: \tepochs: 50\n",
            "\u001b[34m\u001b[1mwandb\u001b[0m: \tlr: 0.0009062175956526714\n",
            "\u001b[34m\u001b[1mwandb\u001b[0m: \tmask_ratio: 0.3\n",
            "\u001b[34m\u001b[1mwandb\u001b[0m: \tnhead: 8\n",
            "\u001b[34m\u001b[1mwandb\u001b[0m: \tnum_layers: 3\n"
          ]
        },
        {
          "data": {
            "text/html": [
              "Tracking run with wandb version 0.19.8"
            ],
            "text/plain": [
              "<IPython.core.display.HTML object>"
            ]
          },
          "metadata": {},
          "output_type": "display_data"
        },
        {
          "data": {
            "text/html": [
              "Run data is saved locally in <code>/content/wandb/run-20250401_094554-xhqqhzw2</code>"
            ],
            "text/plain": [
              "<IPython.core.display.HTML object>"
            ]
          },
          "metadata": {},
          "output_type": "display_data"
        },
        {
          "data": {
            "text/html": [
              "Syncing run <strong><a href='https://wandb.ai/hiteshwaripatel408-sardar-vallabhbhai-national-institute/time-series-transformer/runs/xhqqhzw2' target=\"_blank\">solar-sweep-4</a></strong> to <a href='https://wandb.ai/hiteshwaripatel408-sardar-vallabhbhai-national-institute/time-series-transformer' target=\"_blank\">Weights & Biases</a> (<a href='https://wandb.me/developer-guide' target=\"_blank\">docs</a>)<br>Sweep page: <a href='https://wandb.ai/hiteshwaripatel408-sardar-vallabhbhai-national-institute/time-series-transformer/sweeps/rl14t3ul' target=\"_blank\">https://wandb.ai/hiteshwaripatel408-sardar-vallabhbhai-national-institute/time-series-transformer/sweeps/rl14t3ul</a>"
            ],
            "text/plain": [
              "<IPython.core.display.HTML object>"
            ]
          },
          "metadata": {},
          "output_type": "display_data"
        },
        {
          "data": {
            "text/html": [
              " View project at <a href='https://wandb.ai/hiteshwaripatel408-sardar-vallabhbhai-national-institute/time-series-transformer' target=\"_blank\">https://wandb.ai/hiteshwaripatel408-sardar-vallabhbhai-national-institute/time-series-transformer</a>"
            ],
            "text/plain": [
              "<IPython.core.display.HTML object>"
            ]
          },
          "metadata": {},
          "output_type": "display_data"
        },
        {
          "data": {
            "text/html": [
              " View sweep at <a href='https://wandb.ai/hiteshwaripatel408-sardar-vallabhbhai-national-institute/time-series-transformer/sweeps/rl14t3ul' target=\"_blank\">https://wandb.ai/hiteshwaripatel408-sardar-vallabhbhai-national-institute/time-series-transformer/sweeps/rl14t3ul</a>"
            ],
            "text/plain": [
              "<IPython.core.display.HTML object>"
            ]
          },
          "metadata": {},
          "output_type": "display_data"
        },
        {
          "data": {
            "text/html": [
              " View run at <a href='https://wandb.ai/hiteshwaripatel408-sardar-vallabhbhai-national-institute/time-series-transformer/runs/xhqqhzw2' target=\"_blank\">https://wandb.ai/hiteshwaripatel408-sardar-vallabhbhai-national-institute/time-series-transformer/runs/xhqqhzw2</a>"
            ],
            "text/plain": [
              "<IPython.core.display.HTML object>"
            ]
          },
          "metadata": {},
          "output_type": "display_data"
        },
        {
          "data": {
            "text/html": [],
            "text/plain": [
              "<IPython.core.display.HTML object>"
            ]
          },
          "metadata": {},
          "output_type": "display_data"
        },
        {
          "data": {
            "text/html": [
              "<br>    <style><br>        .wandb-row {<br>            display: flex;<br>            flex-direction: row;<br>            flex-wrap: wrap;<br>            justify-content: flex-start;<br>            width: 100%;<br>        }<br>        .wandb-col {<br>            display: flex;<br>            flex-direction: column;<br>            flex-basis: 100%;<br>            flex: 1;<br>            padding: 10px;<br>        }<br>    </style><br><div class=\"wandb-row\"><div class=\"wandb-col\"><h3>Run history:</h3><br/><table class=\"wandb\"><tr><td>epoch</td><td>▁▁▁▁▂▂▂▂▂▃▃▃▃▃▃▄▄▄▄▄▅▅▅▅▅▅▆▆▆▆▆▇▇▇▇▇▇███</td></tr><tr><td>lr</td><td>▁▁▁▁▁▁▁▁▁▁▁▁▁▁▁▁▁▁▁▁▁▁▁▁▁▁▁▁▁▁▁▁▁▁▁▁▁▁▁▁</td></tr><tr><td>train_loss</td><td>█▂▂▁▁▁▁▁▁▁▁▁▁▁▁▁▁▁▁▁▁▁▁▁▁▁▁▁▁▁▁▁▁▁▁▁▁▁▁▁</td></tr><tr><td>val_loss</td><td>█▃▁▂▁▂▁▂▂▂▃▃▃▃▃▃▃▃▃▃▃▄▃▄▄▃▄▄▄▄▄▄▄▄▄▅▅▅▅▅</td></tr></table><br/></div><div class=\"wandb-col\"><h3>Run summary:</h3><br/><table class=\"wandb\"><tr><td>epoch</td><td>49</td></tr><tr><td>lr</td><td>0.00091</td></tr><tr><td>train_loss</td><td>0.0002</td></tr><tr><td>val_loss</td><td>0.00947</td></tr></table><br/></div></div>"
            ],
            "text/plain": [
              "<IPython.core.display.HTML object>"
            ]
          },
          "metadata": {},
          "output_type": "display_data"
        },
        {
          "data": {
            "text/html": [
              " View run <strong style=\"color:#cdcd00\">solar-sweep-4</strong> at: <a href='https://wandb.ai/hiteshwaripatel408-sardar-vallabhbhai-national-institute/time-series-transformer/runs/xhqqhzw2' target=\"_blank\">https://wandb.ai/hiteshwaripatel408-sardar-vallabhbhai-national-institute/time-series-transformer/runs/xhqqhzw2</a><br> View project at: <a href='https://wandb.ai/hiteshwaripatel408-sardar-vallabhbhai-national-institute/time-series-transformer' target=\"_blank\">https://wandb.ai/hiteshwaripatel408-sardar-vallabhbhai-national-institute/time-series-transformer</a><br>Synced 5 W&B file(s), 0 media file(s), 0 artifact file(s) and 0 other file(s)"
            ],
            "text/plain": [
              "<IPython.core.display.HTML object>"
            ]
          },
          "metadata": {},
          "output_type": "display_data"
        },
        {
          "data": {
            "text/html": [
              "Find logs at: <code>./wandb/run-20250401_094554-xhqqhzw2/logs</code>"
            ],
            "text/plain": [
              "<IPython.core.display.HTML object>"
            ]
          },
          "metadata": {},
          "output_type": "display_data"
        },
        {
          "metadata": {
            "tags": null
          },
          "name": "stderr",
          "output_type": "stream",
          "text": [
            "\u001b[34m\u001b[1mwandb\u001b[0m: Agent Starting Run: 4p37tzur with config:\n",
            "\u001b[34m\u001b[1mwandb\u001b[0m: \tbatch_size: 64\n",
            "\u001b[34m\u001b[1mwandb\u001b[0m: \td_model: 128\n",
            "\u001b[34m\u001b[1mwandb\u001b[0m: \tepochs: 50\n",
            "\u001b[34m\u001b[1mwandb\u001b[0m: \tlr: 8.808018738168462e-05\n",
            "\u001b[34m\u001b[1mwandb\u001b[0m: \tmask_ratio: 0.1\n",
            "\u001b[34m\u001b[1mwandb\u001b[0m: \tnhead: 8\n",
            "\u001b[34m\u001b[1mwandb\u001b[0m: \tnum_layers: 2\n"
          ]
        },
        {
          "data": {
            "text/html": [
              "Tracking run with wandb version 0.19.8"
            ],
            "text/plain": [
              "<IPython.core.display.HTML object>"
            ]
          },
          "metadata": {},
          "output_type": "display_data"
        },
        {
          "data": {
            "text/html": [
              "Run data is saved locally in <code>/content/wandb/run-20250401_094754-4p37tzur</code>"
            ],
            "text/plain": [
              "<IPython.core.display.HTML object>"
            ]
          },
          "metadata": {},
          "output_type": "display_data"
        },
        {
          "data": {
            "text/html": [
              "Syncing run <strong><a href='https://wandb.ai/hiteshwaripatel408-sardar-vallabhbhai-national-institute/time-series-transformer/runs/4p37tzur' target=\"_blank\">swift-sweep-5</a></strong> to <a href='https://wandb.ai/hiteshwaripatel408-sardar-vallabhbhai-national-institute/time-series-transformer' target=\"_blank\">Weights & Biases</a> (<a href='https://wandb.me/developer-guide' target=\"_blank\">docs</a>)<br>Sweep page: <a href='https://wandb.ai/hiteshwaripatel408-sardar-vallabhbhai-national-institute/time-series-transformer/sweeps/rl14t3ul' target=\"_blank\">https://wandb.ai/hiteshwaripatel408-sardar-vallabhbhai-national-institute/time-series-transformer/sweeps/rl14t3ul</a>"
            ],
            "text/plain": [
              "<IPython.core.display.HTML object>"
            ]
          },
          "metadata": {},
          "output_type": "display_data"
        },
        {
          "data": {
            "text/html": [
              " View project at <a href='https://wandb.ai/hiteshwaripatel408-sardar-vallabhbhai-national-institute/time-series-transformer' target=\"_blank\">https://wandb.ai/hiteshwaripatel408-sardar-vallabhbhai-national-institute/time-series-transformer</a>"
            ],
            "text/plain": [
              "<IPython.core.display.HTML object>"
            ]
          },
          "metadata": {},
          "output_type": "display_data"
        },
        {
          "data": {
            "text/html": [
              " View sweep at <a href='https://wandb.ai/hiteshwaripatel408-sardar-vallabhbhai-national-institute/time-series-transformer/sweeps/rl14t3ul' target=\"_blank\">https://wandb.ai/hiteshwaripatel408-sardar-vallabhbhai-national-institute/time-series-transformer/sweeps/rl14t3ul</a>"
            ],
            "text/plain": [
              "<IPython.core.display.HTML object>"
            ]
          },
          "metadata": {},
          "output_type": "display_data"
        },
        {
          "data": {
            "text/html": [
              " View run at <a href='https://wandb.ai/hiteshwaripatel408-sardar-vallabhbhai-national-institute/time-series-transformer/runs/4p37tzur' target=\"_blank\">https://wandb.ai/hiteshwaripatel408-sardar-vallabhbhai-national-institute/time-series-transformer/runs/4p37tzur</a>"
            ],
            "text/plain": [
              "<IPython.core.display.HTML object>"
            ]
          },
          "metadata": {},
          "output_type": "display_data"
        },
        {
          "data": {
            "text/html": [],
            "text/plain": [
              "<IPython.core.display.HTML object>"
            ]
          },
          "metadata": {},
          "output_type": "display_data"
        },
        {
          "data": {
            "text/html": [
              "<br>    <style><br>        .wandb-row {<br>            display: flex;<br>            flex-direction: row;<br>            flex-wrap: wrap;<br>            justify-content: flex-start;<br>            width: 100%;<br>        }<br>        .wandb-col {<br>            display: flex;<br>            flex-direction: column;<br>            flex-basis: 100%;<br>            flex: 1;<br>            padding: 10px;<br>        }<br>    </style><br><div class=\"wandb-row\"><div class=\"wandb-col\"><h3>Run history:</h3><br/><table class=\"wandb\"><tr><td>epoch</td><td>▁▁▁▁▂▂▂▂▂▃▃▃▃▃▄▄▄▄▄▄▅▅▅▅▅▆▆▆▆▆▆▇▇▇▇▇▇███</td></tr><tr><td>lr</td><td>▁▁▁▁▁▁▁▁▁▁▁▁▁▁▁▁▁▁▁▁▁▁▁▁▁▁▁▁▁▁▁▁▁▁▁▁▁▁▁▁</td></tr><tr><td>train_loss</td><td>█▃▂▂▂▁▁▁▁▁▁▁▁▁▁▁▁▁▁▁▁▁▁▁▁▁▁▁▁▁▁▁▁▁▁▁▁▁▁▁</td></tr><tr><td>val_loss</td><td>█▃▃▂▂▂▂▂▁▂▁▁▁▁▁▁▂▂▁▁▁▁▁▁▁▁▁▁▁▁▁▁▁▂▁▁▂▁▁▂</td></tr></table><br/></div><div class=\"wandb-col\"><h3>Run summary:</h3><br/><table class=\"wandb\"><tr><td>epoch</td><td>49</td></tr><tr><td>lr</td><td>9e-05</td></tr><tr><td>train_loss</td><td>9e-05</td></tr><tr><td>val_loss</td><td>0.00085</td></tr></table><br/></div></div>"
            ],
            "text/plain": [
              "<IPython.core.display.HTML object>"
            ]
          },
          "metadata": {},
          "output_type": "display_data"
        },
        {
          "data": {
            "text/html": [
              " View run <strong style=\"color:#cdcd00\">swift-sweep-5</strong> at: <a href='https://wandb.ai/hiteshwaripatel408-sardar-vallabhbhai-national-institute/time-series-transformer/runs/4p37tzur' target=\"_blank\">https://wandb.ai/hiteshwaripatel408-sardar-vallabhbhai-national-institute/time-series-transformer/runs/4p37tzur</a><br> View project at: <a href='https://wandb.ai/hiteshwaripatel408-sardar-vallabhbhai-national-institute/time-series-transformer' target=\"_blank\">https://wandb.ai/hiteshwaripatel408-sardar-vallabhbhai-national-institute/time-series-transformer</a><br>Synced 5 W&B file(s), 0 media file(s), 0 artifact file(s) and 0 other file(s)"
            ],
            "text/plain": [
              "<IPython.core.display.HTML object>"
            ]
          },
          "metadata": {},
          "output_type": "display_data"
        },
        {
          "data": {
            "text/html": [
              "Find logs at: <code>./wandb/run-20250401_094754-4p37tzur/logs</code>"
            ],
            "text/plain": [
              "<IPython.core.display.HTML object>"
            ]
          },
          "metadata": {},
          "output_type": "display_data"
        },
        {
          "metadata": {
            "tags": null
          },
          "name": "stderr",
          "output_type": "stream",
          "text": [
            "\u001b[34m\u001b[1mwandb\u001b[0m: Agent Starting Run: 47vn6y0t with config:\n",
            "\u001b[34m\u001b[1mwandb\u001b[0m: \tbatch_size: 64\n",
            "\u001b[34m\u001b[1mwandb\u001b[0m: \td_model: 256\n",
            "\u001b[34m\u001b[1mwandb\u001b[0m: \tepochs: 50\n",
            "\u001b[34m\u001b[1mwandb\u001b[0m: \tlr: 0.00017914679151663596\n",
            "\u001b[34m\u001b[1mwandb\u001b[0m: \tmask_ratio: 0.1\n",
            "\u001b[34m\u001b[1mwandb\u001b[0m: \tnhead: 8\n",
            "\u001b[34m\u001b[1mwandb\u001b[0m: \tnum_layers: 2\n"
          ]
        },
        {
          "data": {
            "text/html": [
              "Tracking run with wandb version 0.19.8"
            ],
            "text/plain": [
              "<IPython.core.display.HTML object>"
            ]
          },
          "metadata": {},
          "output_type": "display_data"
        },
        {
          "data": {
            "text/html": [
              "Run data is saved locally in <code>/content/wandb/run-20250401_094944-47vn6y0t</code>"
            ],
            "text/plain": [
              "<IPython.core.display.HTML object>"
            ]
          },
          "metadata": {},
          "output_type": "display_data"
        },
        {
          "data": {
            "text/html": [
              "Syncing run <strong><a href='https://wandb.ai/hiteshwaripatel408-sardar-vallabhbhai-national-institute/time-series-transformer/runs/47vn6y0t' target=\"_blank\">twilight-sweep-6</a></strong> to <a href='https://wandb.ai/hiteshwaripatel408-sardar-vallabhbhai-national-institute/time-series-transformer' target=\"_blank\">Weights & Biases</a> (<a href='https://wandb.me/developer-guide' target=\"_blank\">docs</a>)<br>Sweep page: <a href='https://wandb.ai/hiteshwaripatel408-sardar-vallabhbhai-national-institute/time-series-transformer/sweeps/rl14t3ul' target=\"_blank\">https://wandb.ai/hiteshwaripatel408-sardar-vallabhbhai-national-institute/time-series-transformer/sweeps/rl14t3ul</a>"
            ],
            "text/plain": [
              "<IPython.core.display.HTML object>"
            ]
          },
          "metadata": {},
          "output_type": "display_data"
        },
        {
          "data": {
            "text/html": [
              " View project at <a href='https://wandb.ai/hiteshwaripatel408-sardar-vallabhbhai-national-institute/time-series-transformer' target=\"_blank\">https://wandb.ai/hiteshwaripatel408-sardar-vallabhbhai-national-institute/time-series-transformer</a>"
            ],
            "text/plain": [
              "<IPython.core.display.HTML object>"
            ]
          },
          "metadata": {},
          "output_type": "display_data"
        },
        {
          "data": {
            "text/html": [
              " View sweep at <a href='https://wandb.ai/hiteshwaripatel408-sardar-vallabhbhai-national-institute/time-series-transformer/sweeps/rl14t3ul' target=\"_blank\">https://wandb.ai/hiteshwaripatel408-sardar-vallabhbhai-national-institute/time-series-transformer/sweeps/rl14t3ul</a>"
            ],
            "text/plain": [
              "<IPython.core.display.HTML object>"
            ]
          },
          "metadata": {},
          "output_type": "display_data"
        },
        {
          "data": {
            "text/html": [
              " View run at <a href='https://wandb.ai/hiteshwaripatel408-sardar-vallabhbhai-national-institute/time-series-transformer/runs/47vn6y0t' target=\"_blank\">https://wandb.ai/hiteshwaripatel408-sardar-vallabhbhai-national-institute/time-series-transformer/runs/47vn6y0t</a>"
            ],
            "text/plain": [
              "<IPython.core.display.HTML object>"
            ]
          },
          "metadata": {},
          "output_type": "display_data"
        },
        {
          "data": {
            "text/html": [],
            "text/plain": [
              "<IPython.core.display.HTML object>"
            ]
          },
          "metadata": {},
          "output_type": "display_data"
        },
        {
          "data": {
            "text/html": [
              "<br>    <style><br>        .wandb-row {<br>            display: flex;<br>            flex-direction: row;<br>            flex-wrap: wrap;<br>            justify-content: flex-start;<br>            width: 100%;<br>        }<br>        .wandb-col {<br>            display: flex;<br>            flex-direction: column;<br>            flex-basis: 100%;<br>            flex: 1;<br>            padding: 10px;<br>        }<br>    </style><br><div class=\"wandb-row\"><div class=\"wandb-col\"><h3>Run history:</h3><br/><table class=\"wandb\"><tr><td>epoch</td><td>▁▁▁▁▂▂▂▂▂▃▃▃▃▃▄▄▄▄▄▄▅▅▅▅▅▆▆▆▆▆▆▇▇▇▇▇▇███</td></tr><tr><td>lr</td><td>▁▁▁▁▁▁▁▁▁▁▁▁▁▁▁▁▁▁▁▁▁▁▁▁▁▁▁▁▁▁▁▁▁▁▁▁▁▁▁▁</td></tr><tr><td>train_loss</td><td>█▂▂▁▁▁▁▁▁▁▁▁▁▁▁▁▁▁▁▁▁▁▁▁▁▁▁▁▁▁▁▁▁▁▁▁▁▁▁▁</td></tr><tr><td>val_loss</td><td>█▄▃▂▂▂▂▂▁▁▁▁▁▁▁▁▁▁▁▁▁▁▁▁▁▁▂▁▁▁▁▁▁▂▂▂▂▂▁▁</td></tr></table><br/></div><div class=\"wandb-col\"><h3>Run summary:</h3><br/><table class=\"wandb\"><tr><td>epoch</td><td>49</td></tr><tr><td>lr</td><td>0.00018</td></tr><tr><td>train_loss</td><td>8e-05</td></tr><tr><td>val_loss</td><td>0.00052</td></tr></table><br/></div></div>"
            ],
            "text/plain": [
              "<IPython.core.display.HTML object>"
            ]
          },
          "metadata": {},
          "output_type": "display_data"
        },
        {
          "data": {
            "text/html": [
              " View run <strong style=\"color:#cdcd00\">twilight-sweep-6</strong> at: <a href='https://wandb.ai/hiteshwaripatel408-sardar-vallabhbhai-national-institute/time-series-transformer/runs/47vn6y0t' target=\"_blank\">https://wandb.ai/hiteshwaripatel408-sardar-vallabhbhai-national-institute/time-series-transformer/runs/47vn6y0t</a><br> View project at: <a href='https://wandb.ai/hiteshwaripatel408-sardar-vallabhbhai-national-institute/time-series-transformer' target=\"_blank\">https://wandb.ai/hiteshwaripatel408-sardar-vallabhbhai-national-institute/time-series-transformer</a><br>Synced 5 W&B file(s), 0 media file(s), 0 artifact file(s) and 0 other file(s)"
            ],
            "text/plain": [
              "<IPython.core.display.HTML object>"
            ]
          },
          "metadata": {},
          "output_type": "display_data"
        },
        {
          "data": {
            "text/html": [
              "Find logs at: <code>./wandb/run-20250401_094944-47vn6y0t/logs</code>"
            ],
            "text/plain": [
              "<IPython.core.display.HTML object>"
            ]
          },
          "metadata": {},
          "output_type": "display_data"
        },
        {
          "metadata": {
            "tags": null
          },
          "name": "stderr",
          "output_type": "stream",
          "text": [
            "\u001b[34m\u001b[1mwandb\u001b[0m: Agent Starting Run: n8mk1uew with config:\n",
            "\u001b[34m\u001b[1mwandb\u001b[0m: \tbatch_size: 64\n",
            "\u001b[34m\u001b[1mwandb\u001b[0m: \td_model: 256\n",
            "\u001b[34m\u001b[1mwandb\u001b[0m: \tepochs: 50\n",
            "\u001b[34m\u001b[1mwandb\u001b[0m: \tlr: 0.0001713370188862643\n",
            "\u001b[34m\u001b[1mwandb\u001b[0m: \tmask_ratio: 0.1\n",
            "\u001b[34m\u001b[1mwandb\u001b[0m: \tnhead: 8\n",
            "\u001b[34m\u001b[1mwandb\u001b[0m: \tnum_layers: 2\n"
          ]
        },
        {
          "data": {
            "text/html": [
              "Tracking run with wandb version 0.19.8"
            ],
            "text/plain": [
              "<IPython.core.display.HTML object>"
            ]
          },
          "metadata": {},
          "output_type": "display_data"
        },
        {
          "data": {
            "text/html": [
              "Run data is saved locally in <code>/content/wandb/run-20250401_095248-n8mk1uew</code>"
            ],
            "text/plain": [
              "<IPython.core.display.HTML object>"
            ]
          },
          "metadata": {},
          "output_type": "display_data"
        },
        {
          "data": {
            "text/html": [
              "Syncing run <strong><a href='https://wandb.ai/hiteshwaripatel408-sardar-vallabhbhai-national-institute/time-series-transformer/runs/n8mk1uew' target=\"_blank\">hardy-sweep-7</a></strong> to <a href='https://wandb.ai/hiteshwaripatel408-sardar-vallabhbhai-national-institute/time-series-transformer' target=\"_blank\">Weights & Biases</a> (<a href='https://wandb.me/developer-guide' target=\"_blank\">docs</a>)<br>Sweep page: <a href='https://wandb.ai/hiteshwaripatel408-sardar-vallabhbhai-national-institute/time-series-transformer/sweeps/rl14t3ul' target=\"_blank\">https://wandb.ai/hiteshwaripatel408-sardar-vallabhbhai-national-institute/time-series-transformer/sweeps/rl14t3ul</a>"
            ],
            "text/plain": [
              "<IPython.core.display.HTML object>"
            ]
          },
          "metadata": {},
          "output_type": "display_data"
        },
        {
          "data": {
            "text/html": [
              " View project at <a href='https://wandb.ai/hiteshwaripatel408-sardar-vallabhbhai-national-institute/time-series-transformer' target=\"_blank\">https://wandb.ai/hiteshwaripatel408-sardar-vallabhbhai-national-institute/time-series-transformer</a>"
            ],
            "text/plain": [
              "<IPython.core.display.HTML object>"
            ]
          },
          "metadata": {},
          "output_type": "display_data"
        },
        {
          "data": {
            "text/html": [
              " View sweep at <a href='https://wandb.ai/hiteshwaripatel408-sardar-vallabhbhai-national-institute/time-series-transformer/sweeps/rl14t3ul' target=\"_blank\">https://wandb.ai/hiteshwaripatel408-sardar-vallabhbhai-national-institute/time-series-transformer/sweeps/rl14t3ul</a>"
            ],
            "text/plain": [
              "<IPython.core.display.HTML object>"
            ]
          },
          "metadata": {},
          "output_type": "display_data"
        },
        {
          "data": {
            "text/html": [
              " View run at <a href='https://wandb.ai/hiteshwaripatel408-sardar-vallabhbhai-national-institute/time-series-transformer/runs/n8mk1uew' target=\"_blank\">https://wandb.ai/hiteshwaripatel408-sardar-vallabhbhai-national-institute/time-series-transformer/runs/n8mk1uew</a>"
            ],
            "text/plain": [
              "<IPython.core.display.HTML object>"
            ]
          },
          "metadata": {},
          "output_type": "display_data"
        },
        {
          "data": {
            "text/html": [],
            "text/plain": [
              "<IPython.core.display.HTML object>"
            ]
          },
          "metadata": {},
          "output_type": "display_data"
        },
        {
          "data": {
            "text/html": [
              "<br>    <style><br>        .wandb-row {<br>            display: flex;<br>            flex-direction: row;<br>            flex-wrap: wrap;<br>            justify-content: flex-start;<br>            width: 100%;<br>        }<br>        .wandb-col {<br>            display: flex;<br>            flex-direction: column;<br>            flex-basis: 100%;<br>            flex: 1;<br>            padding: 10px;<br>        }<br>    </style><br><div class=\"wandb-row\"><div class=\"wandb-col\"><h3>Run history:</h3><br/><table class=\"wandb\"><tr><td>epoch</td><td>▁▁▁▁▂▂▂▂▂▂▃▃▃▃▃▄▄▄▄▄▄▅▅▅▅▅▅▆▆▆▆▆▇▇▇▇▇▇██</td></tr><tr><td>lr</td><td>▁▁▁▁▁▁▁▁▁▁▁▁▁▁▁▁▁▁▁▁▁▁▁▁▁▁▁▁▁▁▁▁▁▁▁▁▁▁▁▁</td></tr><tr><td>train_loss</td><td>█▃▂▂▂▁▁▁▁▁▁▁▁▁▁▁▁▁▁▁▁▁▁▁▁▁▁▁▁▁▁▁▁▁▁▁▁▁▁▁</td></tr><tr><td>val_loss</td><td>█▄▃▂▃▂▁▂▂▁▂▁▁▂▂▁▁▂▂▁▂▁▂▂▃▃▂▂▂▃▃▃▃▃▃▃▃▃▃▃</td></tr></table><br/></div><div class=\"wandb-col\"><h3>Run summary:</h3><br/><table class=\"wandb\"><tr><td>epoch</td><td>49</td></tr><tr><td>lr</td><td>0.00017</td></tr><tr><td>train_loss</td><td>8e-05</td></tr><tr><td>val_loss</td><td>0.00077</td></tr></table><br/></div></div>"
            ],
            "text/plain": [
              "<IPython.core.display.HTML object>"
            ]
          },
          "metadata": {},
          "output_type": "display_data"
        },
        {
          "data": {
            "text/html": [
              " View run <strong style=\"color:#cdcd00\">hardy-sweep-7</strong> at: <a href='https://wandb.ai/hiteshwaripatel408-sardar-vallabhbhai-national-institute/time-series-transformer/runs/n8mk1uew' target=\"_blank\">https://wandb.ai/hiteshwaripatel408-sardar-vallabhbhai-national-institute/time-series-transformer/runs/n8mk1uew</a><br> View project at: <a href='https://wandb.ai/hiteshwaripatel408-sardar-vallabhbhai-national-institute/time-series-transformer' target=\"_blank\">https://wandb.ai/hiteshwaripatel408-sardar-vallabhbhai-national-institute/time-series-transformer</a><br>Synced 5 W&B file(s), 0 media file(s), 0 artifact file(s) and 0 other file(s)"
            ],
            "text/plain": [
              "<IPython.core.display.HTML object>"
            ]
          },
          "metadata": {},
          "output_type": "display_data"
        },
        {
          "data": {
            "text/html": [
              "Find logs at: <code>./wandb/run-20250401_095248-n8mk1uew/logs</code>"
            ],
            "text/plain": [
              "<IPython.core.display.HTML object>"
            ]
          },
          "metadata": {},
          "output_type": "display_data"
        },
        {
          "metadata": {
            "tags": null
          },
          "name": "stderr",
          "output_type": "stream",
          "text": [
            "\u001b[34m\u001b[1mwandb\u001b[0m: Agent Starting Run: dp3s7ol5 with config:\n",
            "\u001b[34m\u001b[1mwandb\u001b[0m: \tbatch_size: 64\n",
            "\u001b[34m\u001b[1mwandb\u001b[0m: \td_model: 256\n",
            "\u001b[34m\u001b[1mwandb\u001b[0m: \tepochs: 50\n",
            "\u001b[34m\u001b[1mwandb\u001b[0m: \tlr: 0.0003239544870929445\n",
            "\u001b[34m\u001b[1mwandb\u001b[0m: \tmask_ratio: 0.1\n",
            "\u001b[34m\u001b[1mwandb\u001b[0m: \tnhead: 8\n",
            "\u001b[34m\u001b[1mwandb\u001b[0m: \tnum_layers: 2\n"
          ]
        },
        {
          "data": {
            "text/html": [
              "Tracking run with wandb version 0.19.8"
            ],
            "text/plain": [
              "<IPython.core.display.HTML object>"
            ]
          },
          "metadata": {},
          "output_type": "display_data"
        },
        {
          "data": {
            "text/html": [
              "Run data is saved locally in <code>/content/wandb/run-20250401_095551-dp3s7ol5</code>"
            ],
            "text/plain": [
              "<IPython.core.display.HTML object>"
            ]
          },
          "metadata": {},
          "output_type": "display_data"
        },
        {
          "data": {
            "text/html": [
              "Syncing run <strong><a href='https://wandb.ai/hiteshwaripatel408-sardar-vallabhbhai-national-institute/time-series-transformer/runs/dp3s7ol5' target=\"_blank\">jolly-sweep-8</a></strong> to <a href='https://wandb.ai/hiteshwaripatel408-sardar-vallabhbhai-national-institute/time-series-transformer' target=\"_blank\">Weights & Biases</a> (<a href='https://wandb.me/developer-guide' target=\"_blank\">docs</a>)<br>Sweep page: <a href='https://wandb.ai/hiteshwaripatel408-sardar-vallabhbhai-national-institute/time-series-transformer/sweeps/rl14t3ul' target=\"_blank\">https://wandb.ai/hiteshwaripatel408-sardar-vallabhbhai-national-institute/time-series-transformer/sweeps/rl14t3ul</a>"
            ],
            "text/plain": [
              "<IPython.core.display.HTML object>"
            ]
          },
          "metadata": {},
          "output_type": "display_data"
        },
        {
          "data": {
            "text/html": [
              " View project at <a href='https://wandb.ai/hiteshwaripatel408-sardar-vallabhbhai-national-institute/time-series-transformer' target=\"_blank\">https://wandb.ai/hiteshwaripatel408-sardar-vallabhbhai-national-institute/time-series-transformer</a>"
            ],
            "text/plain": [
              "<IPython.core.display.HTML object>"
            ]
          },
          "metadata": {},
          "output_type": "display_data"
        },
        {
          "data": {
            "text/html": [
              " View sweep at <a href='https://wandb.ai/hiteshwaripatel408-sardar-vallabhbhai-national-institute/time-series-transformer/sweeps/rl14t3ul' target=\"_blank\">https://wandb.ai/hiteshwaripatel408-sardar-vallabhbhai-national-institute/time-series-transformer/sweeps/rl14t3ul</a>"
            ],
            "text/plain": [
              "<IPython.core.display.HTML object>"
            ]
          },
          "metadata": {},
          "output_type": "display_data"
        },
        {
          "data": {
            "text/html": [
              " View run at <a href='https://wandb.ai/hiteshwaripatel408-sardar-vallabhbhai-national-institute/time-series-transformer/runs/dp3s7ol5' target=\"_blank\">https://wandb.ai/hiteshwaripatel408-sardar-vallabhbhai-national-institute/time-series-transformer/runs/dp3s7ol5</a>"
            ],
            "text/plain": [
              "<IPython.core.display.HTML object>"
            ]
          },
          "metadata": {},
          "output_type": "display_data"
        },
        {
          "data": {
            "text/html": [],
            "text/plain": [
              "<IPython.core.display.HTML object>"
            ]
          },
          "metadata": {},
          "output_type": "display_data"
        },
        {
          "data": {
            "text/html": [
              "<br>    <style><br>        .wandb-row {<br>            display: flex;<br>            flex-direction: row;<br>            flex-wrap: wrap;<br>            justify-content: flex-start;<br>            width: 100%;<br>        }<br>        .wandb-col {<br>            display: flex;<br>            flex-direction: column;<br>            flex-basis: 100%;<br>            flex: 1;<br>            padding: 10px;<br>        }<br>    </style><br><div class=\"wandb-row\"><div class=\"wandb-col\"><h3>Run history:</h3><br/><table class=\"wandb\"><tr><td>epoch</td><td>▁▁▁▁▂▂▂▂▂▃▃▃▃▃▃▄▄▄▄▄▅▅▅▅▅▆▆▆▆▆▆▇▇▇▇▇▇███</td></tr><tr><td>lr</td><td>▁▁▁▁▁▁▁▁▁▁▁▁▁▁▁▁▁▁▁▁▁▁▁▁▁▁▁▁▁▁▁▁▁▁▁▁▁▁▁▁</td></tr><tr><td>train_loss</td><td>█▂▁▁▁▁▁▁▁▁▁▁▁▁▁▁▁▁▁▁▁▁▁▁▁▁▁▁▁▁▁▁▁▁▁▁▁▁▁▁</td></tr><tr><td>val_loss</td><td>█▃▂▂▂▂▂▂▁▁▂▁▂▂▁▁▂▂▁▂▂▂▃▂▂▂▂▃▂▂▂▂▂▂▂▂▂▂▂▂</td></tr></table><br/></div><div class=\"wandb-col\"><h3>Run summary:</h3><br/><table class=\"wandb\"><tr><td>epoch</td><td>49</td></tr><tr><td>lr</td><td>0.00032</td></tr><tr><td>train_loss</td><td>7e-05</td></tr><tr><td>val_loss</td><td>0.00064</td></tr></table><br/></div></div>"
            ],
            "text/plain": [
              "<IPython.core.display.HTML object>"
            ]
          },
          "metadata": {},
          "output_type": "display_data"
        },
        {
          "data": {
            "text/html": [
              " View run <strong style=\"color:#cdcd00\">jolly-sweep-8</strong> at: <a href='https://wandb.ai/hiteshwaripatel408-sardar-vallabhbhai-national-institute/time-series-transformer/runs/dp3s7ol5' target=\"_blank\">https://wandb.ai/hiteshwaripatel408-sardar-vallabhbhai-national-institute/time-series-transformer/runs/dp3s7ol5</a><br> View project at: <a href='https://wandb.ai/hiteshwaripatel408-sardar-vallabhbhai-national-institute/time-series-transformer' target=\"_blank\">https://wandb.ai/hiteshwaripatel408-sardar-vallabhbhai-national-institute/time-series-transformer</a><br>Synced 5 W&B file(s), 0 media file(s), 0 artifact file(s) and 0 other file(s)"
            ],
            "text/plain": [
              "<IPython.core.display.HTML object>"
            ]
          },
          "metadata": {},
          "output_type": "display_data"
        },
        {
          "data": {
            "text/html": [
              "Find logs at: <code>./wandb/run-20250401_095551-dp3s7ol5/logs</code>"
            ],
            "text/plain": [
              "<IPython.core.display.HTML object>"
            ]
          },
          "metadata": {},
          "output_type": "display_data"
        },
        {
          "metadata": {
            "tags": null
          },
          "name": "stderr",
          "output_type": "stream",
          "text": [
            "\u001b[34m\u001b[1mwandb\u001b[0m: Agent Starting Run: 48lq1knx with config:\n",
            "\u001b[34m\u001b[1mwandb\u001b[0m: \tbatch_size: 64\n",
            "\u001b[34m\u001b[1mwandb\u001b[0m: \td_model: 256\n",
            "\u001b[34m\u001b[1mwandb\u001b[0m: \tepochs: 50\n",
            "\u001b[34m\u001b[1mwandb\u001b[0m: \tlr: 0.00028748504421382274\n",
            "\u001b[34m\u001b[1mwandb\u001b[0m: \tmask_ratio: 0.1\n",
            "\u001b[34m\u001b[1mwandb\u001b[0m: \tnhead: 8\n",
            "\u001b[34m\u001b[1mwandb\u001b[0m: \tnum_layers: 3\n"
          ]
        },
        {
          "data": {
            "text/html": [
              "Tracking run with wandb version 0.19.8"
            ],
            "text/plain": [
              "<IPython.core.display.HTML object>"
            ]
          },
          "metadata": {},
          "output_type": "display_data"
        },
        {
          "data": {
            "text/html": [
              "Run data is saved locally in <code>/content/wandb/run-20250401_095854-48lq1knx</code>"
            ],
            "text/plain": [
              "<IPython.core.display.HTML object>"
            ]
          },
          "metadata": {},
          "output_type": "display_data"
        },
        {
          "data": {
            "text/html": [
              "Syncing run <strong><a href='https://wandb.ai/hiteshwaripatel408-sardar-vallabhbhai-national-institute/time-series-transformer/runs/48lq1knx' target=\"_blank\">balmy-sweep-9</a></strong> to <a href='https://wandb.ai/hiteshwaripatel408-sardar-vallabhbhai-national-institute/time-series-transformer' target=\"_blank\">Weights & Biases</a> (<a href='https://wandb.me/developer-guide' target=\"_blank\">docs</a>)<br>Sweep page: <a href='https://wandb.ai/hiteshwaripatel408-sardar-vallabhbhai-national-institute/time-series-transformer/sweeps/rl14t3ul' target=\"_blank\">https://wandb.ai/hiteshwaripatel408-sardar-vallabhbhai-national-institute/time-series-transformer/sweeps/rl14t3ul</a>"
            ],
            "text/plain": [
              "<IPython.core.display.HTML object>"
            ]
          },
          "metadata": {},
          "output_type": "display_data"
        },
        {
          "data": {
            "text/html": [
              " View project at <a href='https://wandb.ai/hiteshwaripatel408-sardar-vallabhbhai-national-institute/time-series-transformer' target=\"_blank\">https://wandb.ai/hiteshwaripatel408-sardar-vallabhbhai-national-institute/time-series-transformer</a>"
            ],
            "text/plain": [
              "<IPython.core.display.HTML object>"
            ]
          },
          "metadata": {},
          "output_type": "display_data"
        },
        {
          "data": {
            "text/html": [
              " View sweep at <a href='https://wandb.ai/hiteshwaripatel408-sardar-vallabhbhai-national-institute/time-series-transformer/sweeps/rl14t3ul' target=\"_blank\">https://wandb.ai/hiteshwaripatel408-sardar-vallabhbhai-national-institute/time-series-transformer/sweeps/rl14t3ul</a>"
            ],
            "text/plain": [
              "<IPython.core.display.HTML object>"
            ]
          },
          "metadata": {},
          "output_type": "display_data"
        },
        {
          "data": {
            "text/html": [
              " View run at <a href='https://wandb.ai/hiteshwaripatel408-sardar-vallabhbhai-national-institute/time-series-transformer/runs/48lq1knx' target=\"_blank\">https://wandb.ai/hiteshwaripatel408-sardar-vallabhbhai-national-institute/time-series-transformer/runs/48lq1knx</a>"
            ],
            "text/plain": [
              "<IPython.core.display.HTML object>"
            ]
          },
          "metadata": {},
          "output_type": "display_data"
        },
        {
          "output_type": "display_data",
          "data": {
            "text/plain": [
              "<IPython.core.display.HTML object>"
            ],
            "text/html": []
          },
          "metadata": {}
        },
        {
          "output_type": "display_data",
          "data": {
            "text/plain": [
              "<IPython.core.display.HTML object>"
            ],
            "text/html": [
              "<br>    <style><br>        .wandb-row {<br>            display: flex;<br>            flex-direction: row;<br>            flex-wrap: wrap;<br>            justify-content: flex-start;<br>            width: 100%;<br>        }<br>        .wandb-col {<br>            display: flex;<br>            flex-direction: column;<br>            flex-basis: 100%;<br>            flex: 1;<br>            padding: 10px;<br>        }<br>    </style><br><div class=\"wandb-row\"><div class=\"wandb-col\"><h3>Run history:</h3><br/><table class=\"wandb\"><tr><td>epoch</td><td>▁▁▁▁▂▂▂▂▂▂▃▃▃▃▃▄▄▄▄▄▅▅▅▅▅▆▆▆▆▆▆▇▇▇▇▇▇███</td></tr><tr><td>lr</td><td>▁▁▁▁▁▁▁▁▁▁▁▁▁▁▁▁▁▁▁▁▁▁▁▁▁▁▁▁▁▁▁▁▁▁▁▁▁▁▁▁</td></tr><tr><td>train_loss</td><td>█▂▂▁▁▁▁▁▁▁▁▁▁▁▁▁▁▁▁▁▁▁▁▁▁▁▁▁▁▁▁▁▁▁▁▁▁▁▁▁</td></tr><tr><td>val_loss</td><td>█▃▂▁▁▁▁▂▁▁▁▁▁▁▁▁▂▂▁▂▁▂▂▂▂▂▂▂▂▂▂▂▃▃▂▂▃▃▃▃</td></tr></table><br/></div><div class=\"wandb-col\"><h3>Run summary:</h3><br/><table class=\"wandb\"><tr><td>epoch</td><td>49</td></tr><tr><td>lr</td><td>0.00029</td></tr><tr><td>train_loss</td><td>8e-05</td></tr><tr><td>val_loss</td><td>0.00086</td></tr></table><br/></div></div>"
            ]
          },
          "metadata": {}
        },
        {
          "output_type": "display_data",
          "data": {
            "text/plain": [
              "<IPython.core.display.HTML object>"
            ],
            "text/html": [
              " View run <strong style=\"color:#cdcd00\">balmy-sweep-9</strong> at: <a href='https://wandb.ai/hiteshwaripatel408-sardar-vallabhbhai-national-institute/time-series-transformer/runs/48lq1knx' target=\"_blank\">https://wandb.ai/hiteshwaripatel408-sardar-vallabhbhai-national-institute/time-series-transformer/runs/48lq1knx</a><br> View project at: <a href='https://wandb.ai/hiteshwaripatel408-sardar-vallabhbhai-national-institute/time-series-transformer' target=\"_blank\">https://wandb.ai/hiteshwaripatel408-sardar-vallabhbhai-national-institute/time-series-transformer</a><br>Synced 5 W&B file(s), 0 media file(s), 0 artifact file(s) and 0 other file(s)"
            ]
          },
          "metadata": {}
        },
        {
          "output_type": "display_data",
          "data": {
            "text/plain": [
              "<IPython.core.display.HTML object>"
            ],
            "text/html": [
              "Find logs at: <code>./wandb/run-20250401_095854-48lq1knx/logs</code>"
            ]
          },
          "metadata": {}
        },
        {
          "output_type": "stream",
          "name": "stderr",
          "text": [
            "\u001b[34m\u001b[1mwandb\u001b[0m: Sweep Agent: Waiting for job.\n",
            "\u001b[34m\u001b[1mwandb\u001b[0m: Job received.\n",
            "\u001b[34m\u001b[1mwandb\u001b[0m: Agent Starting Run: 6xdc6qzm with config:\n",
            "\u001b[34m\u001b[1mwandb\u001b[0m: \tbatch_size: 64\n",
            "\u001b[34m\u001b[1mwandb\u001b[0m: \td_model: 256\n",
            "\u001b[34m\u001b[1mwandb\u001b[0m: \tepochs: 50\n",
            "\u001b[34m\u001b[1mwandb\u001b[0m: \tlr: 0.00021059229202877408\n",
            "\u001b[34m\u001b[1mwandb\u001b[0m: \tmask_ratio: 0.1\n",
            "\u001b[34m\u001b[1mwandb\u001b[0m: \tnhead: 8\n",
            "\u001b[34m\u001b[1mwandb\u001b[0m: \tnum_layers: 4\n"
          ]
        },
        {
          "output_type": "display_data",
          "data": {
            "text/plain": [
              "<IPython.core.display.HTML object>"
            ],
            "text/html": [
              "Tracking run with wandb version 0.19.8"
            ]
          },
          "metadata": {}
        },
        {
          "output_type": "display_data",
          "data": {
            "text/plain": [
              "<IPython.core.display.HTML object>"
            ],
            "text/html": [
              "Run data is saved locally in <code>/content/wandb/run-20250401_100336-6xdc6qzm</code>"
            ]
          },
          "metadata": {}
        },
        {
          "output_type": "display_data",
          "data": {
            "text/plain": [
              "<IPython.core.display.HTML object>"
            ],
            "text/html": [
              "Syncing run <strong><a href='https://wandb.ai/hiteshwaripatel408-sardar-vallabhbhai-national-institute/time-series-transformer/runs/6xdc6qzm' target=\"_blank\">fallen-sweep-10</a></strong> to <a href='https://wandb.ai/hiteshwaripatel408-sardar-vallabhbhai-national-institute/time-series-transformer' target=\"_blank\">Weights & Biases</a> (<a href='https://wandb.me/developer-guide' target=\"_blank\">docs</a>)<br>Sweep page: <a href='https://wandb.ai/hiteshwaripatel408-sardar-vallabhbhai-national-institute/time-series-transformer/sweeps/rl14t3ul' target=\"_blank\">https://wandb.ai/hiteshwaripatel408-sardar-vallabhbhai-national-institute/time-series-transformer/sweeps/rl14t3ul</a>"
            ]
          },
          "metadata": {}
        },
        {
          "output_type": "display_data",
          "data": {
            "text/plain": [
              "<IPython.core.display.HTML object>"
            ],
            "text/html": [
              " View project at <a href='https://wandb.ai/hiteshwaripatel408-sardar-vallabhbhai-national-institute/time-series-transformer' target=\"_blank\">https://wandb.ai/hiteshwaripatel408-sardar-vallabhbhai-national-institute/time-series-transformer</a>"
            ]
          },
          "metadata": {}
        },
        {
          "output_type": "display_data",
          "data": {
            "text/plain": [
              "<IPython.core.display.HTML object>"
            ],
            "text/html": [
              " View sweep at <a href='https://wandb.ai/hiteshwaripatel408-sardar-vallabhbhai-national-institute/time-series-transformer/sweeps/rl14t3ul' target=\"_blank\">https://wandb.ai/hiteshwaripatel408-sardar-vallabhbhai-national-institute/time-series-transformer/sweeps/rl14t3ul</a>"
            ]
          },
          "metadata": {}
        },
        {
          "output_type": "display_data",
          "data": {
            "text/plain": [
              "<IPython.core.display.HTML object>"
            ],
            "text/html": [
              " View run at <a href='https://wandb.ai/hiteshwaripatel408-sardar-vallabhbhai-national-institute/time-series-transformer/runs/6xdc6qzm' target=\"_blank\">https://wandb.ai/hiteshwaripatel408-sardar-vallabhbhai-national-institute/time-series-transformer/runs/6xdc6qzm</a>"
            ]
          },
          "metadata": {}
        },
        {
          "output_type": "display_data",
          "data": {
            "text/plain": [
              "<IPython.core.display.HTML object>"
            ],
            "text/html": []
          },
          "metadata": {}
        },
        {
          "output_type": "display_data",
          "data": {
            "text/plain": [
              "<IPython.core.display.HTML object>"
            ],
            "text/html": [
              "<br>    <style><br>        .wandb-row {<br>            display: flex;<br>            flex-direction: row;<br>            flex-wrap: wrap;<br>            justify-content: flex-start;<br>            width: 100%;<br>        }<br>        .wandb-col {<br>            display: flex;<br>            flex-direction: column;<br>            flex-basis: 100%;<br>            flex: 1;<br>            padding: 10px;<br>        }<br>    </style><br><div class=\"wandb-row\"><div class=\"wandb-col\"><h3>Run history:</h3><br/><table class=\"wandb\"><tr><td>epoch</td><td>▁▁▁▁▂▂▂▂▂▂▃▃▃▃▃▄▄▄▄▄▅▅▅▅▅▆▆▆▆▆▆▇▇▇▇▇▇███</td></tr><tr><td>lr</td><td>▁▁▁▁▁▁▁▁▁▁▁▁▁▁▁▁▁▁▁▁▁▁▁▁▁▁▁▁▁▁▁▁▁▁▁▁▁▁▁▁</td></tr><tr><td>train_loss</td><td>█▂▂▂▁▁▁▁▁▁▁▁▁▁▁▁▁▁▁▁▁▁▁▁▁▁▁▁▁▁▁▁▁▁▁▁▁▁▁▁</td></tr><tr><td>val_loss</td><td>█▂▁▁▁▁▁▁▁▁▁▁▂▁▁▂▂▂▂▂▂▂▂▂▂▂▂▂▂▂▂▃▂▃▂▂▃▃▃▃</td></tr></table><br/></div><div class=\"wandb-col\"><h3>Run summary:</h3><br/><table class=\"wandb\"><tr><td>epoch</td><td>49</td></tr><tr><td>lr</td><td>0.00021</td></tr><tr><td>train_loss</td><td>7e-05</td></tr><tr><td>val_loss</td><td>0.00132</td></tr></table><br/></div></div>"
            ]
          },
          "metadata": {}
        },
        {
          "output_type": "display_data",
          "data": {
            "text/plain": [
              "<IPython.core.display.HTML object>"
            ],
            "text/html": [
              " View run <strong style=\"color:#cdcd00\">fallen-sweep-10</strong> at: <a href='https://wandb.ai/hiteshwaripatel408-sardar-vallabhbhai-national-institute/time-series-transformer/runs/6xdc6qzm' target=\"_blank\">https://wandb.ai/hiteshwaripatel408-sardar-vallabhbhai-national-institute/time-series-transformer/runs/6xdc6qzm</a><br> View project at: <a href='https://wandb.ai/hiteshwaripatel408-sardar-vallabhbhai-national-institute/time-series-transformer' target=\"_blank\">https://wandb.ai/hiteshwaripatel408-sardar-vallabhbhai-national-institute/time-series-transformer</a><br>Synced 5 W&B file(s), 0 media file(s), 0 artifact file(s) and 0 other file(s)"
            ]
          },
          "metadata": {}
        },
        {
          "output_type": "display_data",
          "data": {
            "text/plain": [
              "<IPython.core.display.HTML object>"
            ],
            "text/html": [
              "Find logs at: <code>./wandb/run-20250401_100336-6xdc6qzm/logs</code>"
            ]
          },
          "metadata": {}
        },
        {
          "output_type": "stream",
          "name": "stderr",
          "text": [
            "\u001b[34m\u001b[1mwandb\u001b[0m: Sweep Agent: Waiting for job.\n",
            "\u001b[34m\u001b[1mwandb\u001b[0m: Job received.\n",
            "\u001b[34m\u001b[1mwandb\u001b[0m: Agent Starting Run: dz820y28 with config:\n",
            "\u001b[34m\u001b[1mwandb\u001b[0m: \tbatch_size: 64\n",
            "\u001b[34m\u001b[1mwandb\u001b[0m: \td_model: 256\n",
            "\u001b[34m\u001b[1mwandb\u001b[0m: \tepochs: 50\n",
            "\u001b[34m\u001b[1mwandb\u001b[0m: \tlr: 0.000214840956185215\n",
            "\u001b[34m\u001b[1mwandb\u001b[0m: \tmask_ratio: 0.1\n",
            "\u001b[34m\u001b[1mwandb\u001b[0m: \tnhead: 8\n",
            "\u001b[34m\u001b[1mwandb\u001b[0m: \tnum_layers: 3\n"
          ]
        },
        {
          "output_type": "display_data",
          "data": {
            "text/plain": [
              "<IPython.core.display.HTML object>"
            ],
            "text/html": [
              "Tracking run with wandb version 0.19.8"
            ]
          },
          "metadata": {}
        },
        {
          "output_type": "display_data",
          "data": {
            "text/plain": [
              "<IPython.core.display.HTML object>"
            ],
            "text/html": [
              "Run data is saved locally in <code>/content/wandb/run-20250401_100953-dz820y28</code>"
            ]
          },
          "metadata": {}
        },
        {
          "output_type": "display_data",
          "data": {
            "text/plain": [
              "<IPython.core.display.HTML object>"
            ],
            "text/html": [
              "Syncing run <strong><a href='https://wandb.ai/hiteshwaripatel408-sardar-vallabhbhai-national-institute/time-series-transformer/runs/dz820y28' target=\"_blank\">fresh-sweep-11</a></strong> to <a href='https://wandb.ai/hiteshwaripatel408-sardar-vallabhbhai-national-institute/time-series-transformer' target=\"_blank\">Weights & Biases</a> (<a href='https://wandb.me/developer-guide' target=\"_blank\">docs</a>)<br>Sweep page: <a href='https://wandb.ai/hiteshwaripatel408-sardar-vallabhbhai-national-institute/time-series-transformer/sweeps/rl14t3ul' target=\"_blank\">https://wandb.ai/hiteshwaripatel408-sardar-vallabhbhai-national-institute/time-series-transformer/sweeps/rl14t3ul</a>"
            ]
          },
          "metadata": {}
        },
        {
          "output_type": "display_data",
          "data": {
            "text/plain": [
              "<IPython.core.display.HTML object>"
            ],
            "text/html": [
              " View project at <a href='https://wandb.ai/hiteshwaripatel408-sardar-vallabhbhai-national-institute/time-series-transformer' target=\"_blank\">https://wandb.ai/hiteshwaripatel408-sardar-vallabhbhai-national-institute/time-series-transformer</a>"
            ]
          },
          "metadata": {}
        },
        {
          "output_type": "display_data",
          "data": {
            "text/plain": [
              "<IPython.core.display.HTML object>"
            ],
            "text/html": [
              " View sweep at <a href='https://wandb.ai/hiteshwaripatel408-sardar-vallabhbhai-national-institute/time-series-transformer/sweeps/rl14t3ul' target=\"_blank\">https://wandb.ai/hiteshwaripatel408-sardar-vallabhbhai-national-institute/time-series-transformer/sweeps/rl14t3ul</a>"
            ]
          },
          "metadata": {}
        },
        {
          "output_type": "display_data",
          "data": {
            "text/plain": [
              "<IPython.core.display.HTML object>"
            ],
            "text/html": [
              " View run at <a href='https://wandb.ai/hiteshwaripatel408-sardar-vallabhbhai-national-institute/time-series-transformer/runs/dz820y28' target=\"_blank\">https://wandb.ai/hiteshwaripatel408-sardar-vallabhbhai-national-institute/time-series-transformer/runs/dz820y28</a>"
            ]
          },
          "metadata": {}
        },
        {
          "output_type": "display_data",
          "data": {
            "text/plain": [
              "<IPython.core.display.HTML object>"
            ],
            "text/html": []
          },
          "metadata": {}
        },
        {
          "output_type": "display_data",
          "data": {
            "text/plain": [
              "<IPython.core.display.HTML object>"
            ],
            "text/html": [
              "<br>    <style><br>        .wandb-row {<br>            display: flex;<br>            flex-direction: row;<br>            flex-wrap: wrap;<br>            justify-content: flex-start;<br>            width: 100%;<br>        }<br>        .wandb-col {<br>            display: flex;<br>            flex-direction: column;<br>            flex-basis: 100%;<br>            flex: 1;<br>            padding: 10px;<br>        }<br>    </style><br><div class=\"wandb-row\"><div class=\"wandb-col\"><h3>Run history:</h3><br/><table class=\"wandb\"><tr><td>epoch</td><td>▁▁▁▁▂▂▂▂▂▂▃▃▃▃▃▄▄▄▄▄▅▅▅▅▅▅▆▆▆▆▆▇▇▇▇▇▇███</td></tr><tr><td>lr</td><td>▁▁▁▁▁▁▁▁▁▁▁▁▁▁▁▁▁▁▁▁▁▁▁▁▁▁▁▁▁▁▁▁▁▁▁▁▁▁▁▁</td></tr><tr><td>train_loss</td><td>█▂▂▂▁▁▁▁▁▁▁▁▁▁▁▁▁▁▁▁▁▁▁▁▁▁▁▁▁▁▁▁▁▁▁▁▁▁▁▁</td></tr><tr><td>val_loss</td><td>█▃▂▂▂▁▁▁▁▁▁▁▁▁▁▂▁▂▁▂▁▁▂▂▂▁▁▂▂▁▂▂▂▂▂▂▂▃▂▂</td></tr></table><br/></div><div class=\"wandb-col\"><h3>Run summary:</h3><br/><table class=\"wandb\"><tr><td>epoch</td><td>49</td></tr><tr><td>lr</td><td>0.00021</td></tr><tr><td>train_loss</td><td>8e-05</td></tr><tr><td>val_loss</td><td>0.00066</td></tr></table><br/></div></div>"
            ]
          },
          "metadata": {}
        },
        {
          "output_type": "display_data",
          "data": {
            "text/plain": [
              "<IPython.core.display.HTML object>"
            ],
            "text/html": [
              " View run <strong style=\"color:#cdcd00\">fresh-sweep-11</strong> at: <a href='https://wandb.ai/hiteshwaripatel408-sardar-vallabhbhai-national-institute/time-series-transformer/runs/dz820y28' target=\"_blank\">https://wandb.ai/hiteshwaripatel408-sardar-vallabhbhai-national-institute/time-series-transformer/runs/dz820y28</a><br> View project at: <a href='https://wandb.ai/hiteshwaripatel408-sardar-vallabhbhai-national-institute/time-series-transformer' target=\"_blank\">https://wandb.ai/hiteshwaripatel408-sardar-vallabhbhai-national-institute/time-series-transformer</a><br>Synced 5 W&B file(s), 0 media file(s), 0 artifact file(s) and 0 other file(s)"
            ]
          },
          "metadata": {}
        },
        {
          "output_type": "display_data",
          "data": {
            "text/plain": [
              "<IPython.core.display.HTML object>"
            ],
            "text/html": [
              "Find logs at: <code>./wandb/run-20250401_100953-dz820y28/logs</code>"
            ]
          },
          "metadata": {}
        },
        {
          "output_type": "stream",
          "name": "stderr",
          "text": [
            "\u001b[34m\u001b[1mwandb\u001b[0m: Agent Starting Run: l8f0ywhk with config:\n",
            "\u001b[34m\u001b[1mwandb\u001b[0m: \tbatch_size: 64\n",
            "\u001b[34m\u001b[1mwandb\u001b[0m: \td_model: 256\n",
            "\u001b[34m\u001b[1mwandb\u001b[0m: \tepochs: 50\n",
            "\u001b[34m\u001b[1mwandb\u001b[0m: \tlr: 0.00023121373400127263\n",
            "\u001b[34m\u001b[1mwandb\u001b[0m: \tmask_ratio: 0.1\n",
            "\u001b[34m\u001b[1mwandb\u001b[0m: \tnhead: 8\n",
            "\u001b[34m\u001b[1mwandb\u001b[0m: \tnum_layers: 4\n"
          ]
        },
        {
          "output_type": "display_data",
          "data": {
            "text/plain": [
              "<IPython.core.display.HTML object>"
            ],
            "text/html": [
              "Tracking run with wandb version 0.19.8"
            ]
          },
          "metadata": {}
        },
        {
          "output_type": "display_data",
          "data": {
            "text/plain": [
              "<IPython.core.display.HTML object>"
            ],
            "text/html": [
              "Run data is saved locally in <code>/content/wandb/run-20250401_101435-l8f0ywhk</code>"
            ]
          },
          "metadata": {}
        },
        {
          "output_type": "display_data",
          "data": {
            "text/plain": [
              "<IPython.core.display.HTML object>"
            ],
            "text/html": [
              "Syncing run <strong><a href='https://wandb.ai/hiteshwaripatel408-sardar-vallabhbhai-national-institute/time-series-transformer/runs/l8f0ywhk' target=\"_blank\">rare-sweep-12</a></strong> to <a href='https://wandb.ai/hiteshwaripatel408-sardar-vallabhbhai-national-institute/time-series-transformer' target=\"_blank\">Weights & Biases</a> (<a href='https://wandb.me/developer-guide' target=\"_blank\">docs</a>)<br>Sweep page: <a href='https://wandb.ai/hiteshwaripatel408-sardar-vallabhbhai-national-institute/time-series-transformer/sweeps/rl14t3ul' target=\"_blank\">https://wandb.ai/hiteshwaripatel408-sardar-vallabhbhai-national-institute/time-series-transformer/sweeps/rl14t3ul</a>"
            ]
          },
          "metadata": {}
        },
        {
          "output_type": "display_data",
          "data": {
            "text/plain": [
              "<IPython.core.display.HTML object>"
            ],
            "text/html": [
              " View project at <a href='https://wandb.ai/hiteshwaripatel408-sardar-vallabhbhai-national-institute/time-series-transformer' target=\"_blank\">https://wandb.ai/hiteshwaripatel408-sardar-vallabhbhai-national-institute/time-series-transformer</a>"
            ]
          },
          "metadata": {}
        },
        {
          "output_type": "display_data",
          "data": {
            "text/plain": [
              "<IPython.core.display.HTML object>"
            ],
            "text/html": [
              " View sweep at <a href='https://wandb.ai/hiteshwaripatel408-sardar-vallabhbhai-national-institute/time-series-transformer/sweeps/rl14t3ul' target=\"_blank\">https://wandb.ai/hiteshwaripatel408-sardar-vallabhbhai-national-institute/time-series-transformer/sweeps/rl14t3ul</a>"
            ]
          },
          "metadata": {}
        },
        {
          "output_type": "display_data",
          "data": {
            "text/plain": [
              "<IPython.core.display.HTML object>"
            ],
            "text/html": [
              " View run at <a href='https://wandb.ai/hiteshwaripatel408-sardar-vallabhbhai-national-institute/time-series-transformer/runs/l8f0ywhk' target=\"_blank\">https://wandb.ai/hiteshwaripatel408-sardar-vallabhbhai-national-institute/time-series-transformer/runs/l8f0ywhk</a>"
            ]
          },
          "metadata": {}
        },
        {
          "output_type": "display_data",
          "data": {
            "text/plain": [
              "<IPython.core.display.HTML object>"
            ],
            "text/html": []
          },
          "metadata": {}
        },
        {
          "output_type": "display_data",
          "data": {
            "text/plain": [
              "<IPython.core.display.HTML object>"
            ],
            "text/html": [
              "<br>    <style><br>        .wandb-row {<br>            display: flex;<br>            flex-direction: row;<br>            flex-wrap: wrap;<br>            justify-content: flex-start;<br>            width: 100%;<br>        }<br>        .wandb-col {<br>            display: flex;<br>            flex-direction: column;<br>            flex-basis: 100%;<br>            flex: 1;<br>            padding: 10px;<br>        }<br>    </style><br><div class=\"wandb-row\"><div class=\"wandb-col\"><h3>Run history:</h3><br/><table class=\"wandb\"><tr><td>epoch</td><td>▁▁▁▁▂▂▂▂▂▂▃▃▃▃▃▄▄▄▄▄▅▅▅▅▅▅▆▆▆▆▆▇▇▇▇▇▇███</td></tr><tr><td>lr</td><td>▁▁▁▁▁▁▁▁▁▁▁▁▁▁▁▁▁▁▁▁▁▁▁▁▁▁▁▁▁▁▁▁▁▁▁▁▁▁▁▁</td></tr><tr><td>train_loss</td><td>█▂▂▁▁▁▁▁▁▁▁▁▁▁▁▁▁▁▁▁▁▁▁▁▁▁▁▁▁▁▁▁▁▁▁▁▁▁▁▁</td></tr><tr><td>val_loss</td><td>█▃▂▁▁▂▁▂▁▂▂▂▂▃▃▃▃▄▃▄▄▄▄▄▄▄▄▄▄▄▅▅▅▅▅▅▅▅▆▆</td></tr></table><br/></div><div class=\"wandb-col\"><h3>Run summary:</h3><br/><table class=\"wandb\"><tr><td>epoch</td><td>49</td></tr><tr><td>lr</td><td>0.00023</td></tr><tr><td>train_loss</td><td>7e-05</td></tr><tr><td>val_loss</td><td>0.0015</td></tr></table><br/></div></div>"
            ]
          },
          "metadata": {}
        },
        {
          "output_type": "display_data",
          "data": {
            "text/plain": [
              "<IPython.core.display.HTML object>"
            ],
            "text/html": [
              " View run <strong style=\"color:#cdcd00\">rare-sweep-12</strong> at: <a href='https://wandb.ai/hiteshwaripatel408-sardar-vallabhbhai-national-institute/time-series-transformer/runs/l8f0ywhk' target=\"_blank\">https://wandb.ai/hiteshwaripatel408-sardar-vallabhbhai-national-institute/time-series-transformer/runs/l8f0ywhk</a><br> View project at: <a href='https://wandb.ai/hiteshwaripatel408-sardar-vallabhbhai-national-institute/time-series-transformer' target=\"_blank\">https://wandb.ai/hiteshwaripatel408-sardar-vallabhbhai-national-institute/time-series-transformer</a><br>Synced 5 W&B file(s), 0 media file(s), 0 artifact file(s) and 0 other file(s)"
            ]
          },
          "metadata": {}
        },
        {
          "output_type": "display_data",
          "data": {
            "text/plain": [
              "<IPython.core.display.HTML object>"
            ],
            "text/html": [
              "Find logs at: <code>./wandb/run-20250401_101435-l8f0ywhk/logs</code>"
            ]
          },
          "metadata": {}
        },
        {
          "output_type": "stream",
          "name": "stderr",
          "text": [
            "\u001b[34m\u001b[1mwandb\u001b[0m: Sweep Agent: Waiting for job.\n",
            "\u001b[34m\u001b[1mwandb\u001b[0m: Job received.\n",
            "\u001b[34m\u001b[1mwandb\u001b[0m: Agent Starting Run: zkamuzrh with config:\n",
            "\u001b[34m\u001b[1mwandb\u001b[0m: \tbatch_size: 64\n",
            "\u001b[34m\u001b[1mwandb\u001b[0m: \td_model: 128\n",
            "\u001b[34m\u001b[1mwandb\u001b[0m: \tepochs: 50\n",
            "\u001b[34m\u001b[1mwandb\u001b[0m: \tlr: 8.23801419577633e-05\n",
            "\u001b[34m\u001b[1mwandb\u001b[0m: \tmask_ratio: 0.1\n",
            "\u001b[34m\u001b[1mwandb\u001b[0m: \tnhead: 8\n",
            "\u001b[34m\u001b[1mwandb\u001b[0m: \tnum_layers: 2\n"
          ]
        },
        {
          "output_type": "display_data",
          "data": {
            "text/plain": [
              "<IPython.core.display.HTML object>"
            ],
            "text/html": [
              "Tracking run with wandb version 0.19.8"
            ]
          },
          "metadata": {}
        },
        {
          "output_type": "display_data",
          "data": {
            "text/plain": [
              "<IPython.core.display.HTML object>"
            ],
            "text/html": [
              "Run data is saved locally in <code>/content/wandb/run-20250401_102051-zkamuzrh</code>"
            ]
          },
          "metadata": {}
        },
        {
          "output_type": "display_data",
          "data": {
            "text/plain": [
              "<IPython.core.display.HTML object>"
            ],
            "text/html": [
              "Syncing run <strong><a href='https://wandb.ai/hiteshwaripatel408-sardar-vallabhbhai-national-institute/time-series-transformer/runs/zkamuzrh' target=\"_blank\">cool-sweep-13</a></strong> to <a href='https://wandb.ai/hiteshwaripatel408-sardar-vallabhbhai-national-institute/time-series-transformer' target=\"_blank\">Weights & Biases</a> (<a href='https://wandb.me/developer-guide' target=\"_blank\">docs</a>)<br>Sweep page: <a href='https://wandb.ai/hiteshwaripatel408-sardar-vallabhbhai-national-institute/time-series-transformer/sweeps/rl14t3ul' target=\"_blank\">https://wandb.ai/hiteshwaripatel408-sardar-vallabhbhai-national-institute/time-series-transformer/sweeps/rl14t3ul</a>"
            ]
          },
          "metadata": {}
        },
        {
          "output_type": "display_data",
          "data": {
            "text/plain": [
              "<IPython.core.display.HTML object>"
            ],
            "text/html": [
              " View project at <a href='https://wandb.ai/hiteshwaripatel408-sardar-vallabhbhai-national-institute/time-series-transformer' target=\"_blank\">https://wandb.ai/hiteshwaripatel408-sardar-vallabhbhai-national-institute/time-series-transformer</a>"
            ]
          },
          "metadata": {}
        },
        {
          "output_type": "display_data",
          "data": {
            "text/plain": [
              "<IPython.core.display.HTML object>"
            ],
            "text/html": [
              " View sweep at <a href='https://wandb.ai/hiteshwaripatel408-sardar-vallabhbhai-national-institute/time-series-transformer/sweeps/rl14t3ul' target=\"_blank\">https://wandb.ai/hiteshwaripatel408-sardar-vallabhbhai-national-institute/time-series-transformer/sweeps/rl14t3ul</a>"
            ]
          },
          "metadata": {}
        },
        {
          "output_type": "display_data",
          "data": {
            "text/plain": [
              "<IPython.core.display.HTML object>"
            ],
            "text/html": [
              " View run at <a href='https://wandb.ai/hiteshwaripatel408-sardar-vallabhbhai-national-institute/time-series-transformer/runs/zkamuzrh' target=\"_blank\">https://wandb.ai/hiteshwaripatel408-sardar-vallabhbhai-national-institute/time-series-transformer/runs/zkamuzrh</a>"
            ]
          },
          "metadata": {}
        },
        {
          "output_type": "display_data",
          "data": {
            "text/plain": [
              "<IPython.core.display.HTML object>"
            ],
            "text/html": []
          },
          "metadata": {}
        },
        {
          "output_type": "display_data",
          "data": {
            "text/plain": [
              "<IPython.core.display.HTML object>"
            ],
            "text/html": [
              "<br>    <style><br>        .wandb-row {<br>            display: flex;<br>            flex-direction: row;<br>            flex-wrap: wrap;<br>            justify-content: flex-start;<br>            width: 100%;<br>        }<br>        .wandb-col {<br>            display: flex;<br>            flex-direction: column;<br>            flex-basis: 100%;<br>            flex: 1;<br>            padding: 10px;<br>        }<br>    </style><br><div class=\"wandb-row\"><div class=\"wandb-col\"><h3>Run history:</h3><br/><table class=\"wandb\"><tr><td>epoch</td><td>▁▁▁▁▂▂▂▂▂▃▃▃▃▃▃▄▄▄▄▄▅▅▅▅▅▅▆▆▆▆▆▆▇▇▇▇▇███</td></tr><tr><td>lr</td><td>▁▁▁▁▁▁▁▁▁▁▁▁▁▁▁▁▁▁▁▁▁▁▁▁▁▁▁▁▁▁▁▁▁▁▁▁▁▁▁▁</td></tr><tr><td>train_loss</td><td>█▃▂▂▂▁▁▁▁▁▁▁▁▁▁▁▁▁▁▁▁▁▁▁▁▁▁▁▁▁▁▁▁▁▁▁▁▁▁▁</td></tr><tr><td>val_loss</td><td>█▄▃▃▂▂▂▂▁▁▁▁▁▁▁▁▁▁▁▁▁▁▁▁▁▁▁▁▁▁▁▁▁▂▁▁▁▁▁▁</td></tr></table><br/></div><div class=\"wandb-col\"><h3>Run summary:</h3><br/><table class=\"wandb\"><tr><td>epoch</td><td>49</td></tr><tr><td>lr</td><td>8e-05</td></tr><tr><td>train_loss</td><td>9e-05</td></tr><tr><td>val_loss</td><td>0.00096</td></tr></table><br/></div></div>"
            ]
          },
          "metadata": {}
        },
        {
          "output_type": "display_data",
          "data": {
            "text/plain": [
              "<IPython.core.display.HTML object>"
            ],
            "text/html": [
              " View run <strong style=\"color:#cdcd00\">cool-sweep-13</strong> at: <a href='https://wandb.ai/hiteshwaripatel408-sardar-vallabhbhai-national-institute/time-series-transformer/runs/zkamuzrh' target=\"_blank\">https://wandb.ai/hiteshwaripatel408-sardar-vallabhbhai-national-institute/time-series-transformer/runs/zkamuzrh</a><br> View project at: <a href='https://wandb.ai/hiteshwaripatel408-sardar-vallabhbhai-national-institute/time-series-transformer' target=\"_blank\">https://wandb.ai/hiteshwaripatel408-sardar-vallabhbhai-national-institute/time-series-transformer</a><br>Synced 5 W&B file(s), 0 media file(s), 0 artifact file(s) and 0 other file(s)"
            ]
          },
          "metadata": {}
        },
        {
          "output_type": "display_data",
          "data": {
            "text/plain": [
              "<IPython.core.display.HTML object>"
            ],
            "text/html": [
              "Find logs at: <code>./wandb/run-20250401_102051-zkamuzrh/logs</code>"
            ]
          },
          "metadata": {}
        },
        {
          "output_type": "stream",
          "name": "stderr",
          "text": [
            "\u001b[34m\u001b[1mwandb\u001b[0m: Agent Starting Run: 9i49xqms with config:\n",
            "\u001b[34m\u001b[1mwandb\u001b[0m: \tbatch_size: 64\n",
            "\u001b[34m\u001b[1mwandb\u001b[0m: \td_model: 256\n",
            "\u001b[34m\u001b[1mwandb\u001b[0m: \tepochs: 50\n",
            "\u001b[34m\u001b[1mwandb\u001b[0m: \tlr: 0.00020831151031176336\n",
            "\u001b[34m\u001b[1mwandb\u001b[0m: \tmask_ratio: 0.1\n",
            "\u001b[34m\u001b[1mwandb\u001b[0m: \tnhead: 8\n",
            "\u001b[34m\u001b[1mwandb\u001b[0m: \tnum_layers: 2\n"
          ]
        },
        {
          "output_type": "display_data",
          "data": {
            "text/plain": [
              "<IPython.core.display.HTML object>"
            ],
            "text/html": [
              "Tracking run with wandb version 0.19.8"
            ]
          },
          "metadata": {}
        },
        {
          "output_type": "display_data",
          "data": {
            "text/plain": [
              "<IPython.core.display.HTML object>"
            ],
            "text/html": [
              "Run data is saved locally in <code>/content/wandb/run-20250401_102252-9i49xqms</code>"
            ]
          },
          "metadata": {}
        },
        {
          "output_type": "display_data",
          "data": {
            "text/plain": [
              "<IPython.core.display.HTML object>"
            ],
            "text/html": [
              "Syncing run <strong><a href='https://wandb.ai/hiteshwaripatel408-sardar-vallabhbhai-national-institute/time-series-transformer/runs/9i49xqms' target=\"_blank\">solar-sweep-14</a></strong> to <a href='https://wandb.ai/hiteshwaripatel408-sardar-vallabhbhai-national-institute/time-series-transformer' target=\"_blank\">Weights & Biases</a> (<a href='https://wandb.me/developer-guide' target=\"_blank\">docs</a>)<br>Sweep page: <a href='https://wandb.ai/hiteshwaripatel408-sardar-vallabhbhai-national-institute/time-series-transformer/sweeps/rl14t3ul' target=\"_blank\">https://wandb.ai/hiteshwaripatel408-sardar-vallabhbhai-national-institute/time-series-transformer/sweeps/rl14t3ul</a>"
            ]
          },
          "metadata": {}
        },
        {
          "output_type": "display_data",
          "data": {
            "text/plain": [
              "<IPython.core.display.HTML object>"
            ],
            "text/html": [
              " View project at <a href='https://wandb.ai/hiteshwaripatel408-sardar-vallabhbhai-national-institute/time-series-transformer' target=\"_blank\">https://wandb.ai/hiteshwaripatel408-sardar-vallabhbhai-national-institute/time-series-transformer</a>"
            ]
          },
          "metadata": {}
        },
        {
          "output_type": "display_data",
          "data": {
            "text/plain": [
              "<IPython.core.display.HTML object>"
            ],
            "text/html": [
              " View sweep at <a href='https://wandb.ai/hiteshwaripatel408-sardar-vallabhbhai-national-institute/time-series-transformer/sweeps/rl14t3ul' target=\"_blank\">https://wandb.ai/hiteshwaripatel408-sardar-vallabhbhai-national-institute/time-series-transformer/sweeps/rl14t3ul</a>"
            ]
          },
          "metadata": {}
        },
        {
          "output_type": "display_data",
          "data": {
            "text/plain": [
              "<IPython.core.display.HTML object>"
            ],
            "text/html": [
              " View run at <a href='https://wandb.ai/hiteshwaripatel408-sardar-vallabhbhai-national-institute/time-series-transformer/runs/9i49xqms' target=\"_blank\">https://wandb.ai/hiteshwaripatel408-sardar-vallabhbhai-national-institute/time-series-transformer/runs/9i49xqms</a>"
            ]
          },
          "metadata": {}
        },
        {
          "output_type": "display_data",
          "data": {
            "text/plain": [
              "<IPython.core.display.HTML object>"
            ],
            "text/html": []
          },
          "metadata": {}
        },
        {
          "output_type": "display_data",
          "data": {
            "text/plain": [
              "<IPython.core.display.HTML object>"
            ],
            "text/html": [
              "<br>    <style><br>        .wandb-row {<br>            display: flex;<br>            flex-direction: row;<br>            flex-wrap: wrap;<br>            justify-content: flex-start;<br>            width: 100%;<br>        }<br>        .wandb-col {<br>            display: flex;<br>            flex-direction: column;<br>            flex-basis: 100%;<br>            flex: 1;<br>            padding: 10px;<br>        }<br>    </style><br><div class=\"wandb-row\"><div class=\"wandb-col\"><h3>Run history:</h3><br/><table class=\"wandb\"><tr><td>epoch</td><td>▁▁▁▁▂▂▂▂▂▂▃▃▃▃▃▄▄▄▄▄▅▅▅▅▅▆▆▆▆▆▆▇▇▇▇▇▇███</td></tr><tr><td>lr</td><td>▁▁▁▁▁▁▁▁▁▁▁▁▁▁▁▁▁▁▁▁▁▁▁▁▁▁▁▁▁▁▁▁▁▁▁▁▁▁▁▁</td></tr><tr><td>train_loss</td><td>█▂▂▁▁▁▁▁▁▁▁▁▁▁▁▁▁▁▁▁▁▁▁▁▁▁▁▁▁▁▁▁▁▁▁▁▁▁▁▁</td></tr><tr><td>val_loss</td><td>█▃▂▂▂▂▁▂▂▁▂▁▂▁▁▁▂▂▁▂▃▂▂▂▃▂▂▂▃▃▃▃▂▃▄▃▄▃▃▄</td></tr></table><br/></div><div class=\"wandb-col\"><h3>Run summary:</h3><br/><table class=\"wandb\"><tr><td>epoch</td><td>49</td></tr><tr><td>lr</td><td>0.00021</td></tr><tr><td>train_loss</td><td>8e-05</td></tr><tr><td>val_loss</td><td>0.00089</td></tr></table><br/></div></div>"
            ]
          },
          "metadata": {}
        },
        {
          "output_type": "display_data",
          "data": {
            "text/plain": [
              "<IPython.core.display.HTML object>"
            ],
            "text/html": [
              " View run <strong style=\"color:#cdcd00\">solar-sweep-14</strong> at: <a href='https://wandb.ai/hiteshwaripatel408-sardar-vallabhbhai-national-institute/time-series-transformer/runs/9i49xqms' target=\"_blank\">https://wandb.ai/hiteshwaripatel408-sardar-vallabhbhai-national-institute/time-series-transformer/runs/9i49xqms</a><br> View project at: <a href='https://wandb.ai/hiteshwaripatel408-sardar-vallabhbhai-national-institute/time-series-transformer' target=\"_blank\">https://wandb.ai/hiteshwaripatel408-sardar-vallabhbhai-national-institute/time-series-transformer</a><br>Synced 5 W&B file(s), 0 media file(s), 0 artifact file(s) and 0 other file(s)"
            ]
          },
          "metadata": {}
        },
        {
          "output_type": "display_data",
          "data": {
            "text/plain": [
              "<IPython.core.display.HTML object>"
            ],
            "text/html": [
              "Find logs at: <code>./wandb/run-20250401_102252-9i49xqms/logs</code>"
            ]
          },
          "metadata": {}
        },
        {
          "output_type": "stream",
          "name": "stderr",
          "text": [
            "\u001b[34m\u001b[1mwandb\u001b[0m: Agent Starting Run: i8f60wb4 with config:\n",
            "\u001b[34m\u001b[1mwandb\u001b[0m: \tbatch_size: 64\n",
            "\u001b[34m\u001b[1mwandb\u001b[0m: \td_model: 256\n",
            "\u001b[34m\u001b[1mwandb\u001b[0m: \tepochs: 50\n",
            "\u001b[34m\u001b[1mwandb\u001b[0m: \tlr: 0.00025456695238669475\n",
            "\u001b[34m\u001b[1mwandb\u001b[0m: \tmask_ratio: 0.1\n",
            "\u001b[34m\u001b[1mwandb\u001b[0m: \tnhead: 8\n",
            "\u001b[34m\u001b[1mwandb\u001b[0m: \tnum_layers: 4\n"
          ]
        },
        {
          "output_type": "display_data",
          "data": {
            "text/plain": [
              "<IPython.core.display.HTML object>"
            ],
            "text/html": [
              "Tracking run with wandb version 0.19.8"
            ]
          },
          "metadata": {}
        },
        {
          "output_type": "display_data",
          "data": {
            "text/plain": [
              "<IPython.core.display.HTML object>"
            ],
            "text/html": [
              "Run data is saved locally in <code>/content/wandb/run-20250401_102605-i8f60wb4</code>"
            ]
          },
          "metadata": {}
        },
        {
          "output_type": "display_data",
          "data": {
            "text/plain": [
              "<IPython.core.display.HTML object>"
            ],
            "text/html": [
              "Syncing run <strong><a href='https://wandb.ai/hiteshwaripatel408-sardar-vallabhbhai-national-institute/time-series-transformer/runs/i8f60wb4' target=\"_blank\">lunar-sweep-15</a></strong> to <a href='https://wandb.ai/hiteshwaripatel408-sardar-vallabhbhai-national-institute/time-series-transformer' target=\"_blank\">Weights & Biases</a> (<a href='https://wandb.me/developer-guide' target=\"_blank\">docs</a>)<br>Sweep page: <a href='https://wandb.ai/hiteshwaripatel408-sardar-vallabhbhai-national-institute/time-series-transformer/sweeps/rl14t3ul' target=\"_blank\">https://wandb.ai/hiteshwaripatel408-sardar-vallabhbhai-national-institute/time-series-transformer/sweeps/rl14t3ul</a>"
            ]
          },
          "metadata": {}
        },
        {
          "output_type": "display_data",
          "data": {
            "text/plain": [
              "<IPython.core.display.HTML object>"
            ],
            "text/html": [
              " View project at <a href='https://wandb.ai/hiteshwaripatel408-sardar-vallabhbhai-national-institute/time-series-transformer' target=\"_blank\">https://wandb.ai/hiteshwaripatel408-sardar-vallabhbhai-national-institute/time-series-transformer</a>"
            ]
          },
          "metadata": {}
        },
        {
          "output_type": "display_data",
          "data": {
            "text/plain": [
              "<IPython.core.display.HTML object>"
            ],
            "text/html": [
              " View sweep at <a href='https://wandb.ai/hiteshwaripatel408-sardar-vallabhbhai-national-institute/time-series-transformer/sweeps/rl14t3ul' target=\"_blank\">https://wandb.ai/hiteshwaripatel408-sardar-vallabhbhai-national-institute/time-series-transformer/sweeps/rl14t3ul</a>"
            ]
          },
          "metadata": {}
        },
        {
          "output_type": "display_data",
          "data": {
            "text/plain": [
              "<IPython.core.display.HTML object>"
            ],
            "text/html": [
              " View run at <a href='https://wandb.ai/hiteshwaripatel408-sardar-vallabhbhai-national-institute/time-series-transformer/runs/i8f60wb4' target=\"_blank\">https://wandb.ai/hiteshwaripatel408-sardar-vallabhbhai-national-institute/time-series-transformer/runs/i8f60wb4</a>"
            ]
          },
          "metadata": {}
        },
        {
          "output_type": "display_data",
          "data": {
            "text/plain": [
              "<IPython.core.display.HTML object>"
            ],
            "text/html": []
          },
          "metadata": {}
        },
        {
          "output_type": "display_data",
          "data": {
            "text/plain": [
              "<IPython.core.display.HTML object>"
            ],
            "text/html": [
              "<br>    <style><br>        .wandb-row {<br>            display: flex;<br>            flex-direction: row;<br>            flex-wrap: wrap;<br>            justify-content: flex-start;<br>            width: 100%;<br>        }<br>        .wandb-col {<br>            display: flex;<br>            flex-direction: column;<br>            flex-basis: 100%;<br>            flex: 1;<br>            padding: 10px;<br>        }<br>    </style><br><div class=\"wandb-row\"><div class=\"wandb-col\"><h3>Run history:</h3><br/><table class=\"wandb\"><tr><td>epoch</td><td>▁▁▁▁▂▂▂▂▂▂▃▃▃▃▃▄▄▄▄▄▄▅▅▅▅▅▅▆▆▆▆▆▆▇▇▇▇▇██</td></tr><tr><td>lr</td><td>▁▁▁▁▁▁▁▁▁▁▁▁▁▁▁▁▁▁▁▁▁▁▁▁▁▁▁▁▁▁▁▁▁▁▁▁▁▁▁▁</td></tr><tr><td>train_loss</td><td>█▂▂▁▁▁▁▁▁▁▁▁▁▁▁▁▁▁▁▁▁▁▁▁▁▁▁▁▁▁▁▁▁▁▁▁▁▁▁▁</td></tr><tr><td>val_loss</td><td>█▃▁▁▁▁▁▁▁▁▂▂▂▂▁▂▂▂▂▂▃▄▃▃▃▃▃▄▄▄▅▄▄▄▅▅▆▅▆▅</td></tr></table><br/></div><div class=\"wandb-col\"><h3>Run summary:</h3><br/><table class=\"wandb\"><tr><td>epoch</td><td>49</td></tr><tr><td>lr</td><td>0.00025</td></tr><tr><td>train_loss</td><td>7e-05</td></tr><tr><td>val_loss</td><td>0.00143</td></tr></table><br/></div></div>"
            ]
          },
          "metadata": {}
        },
        {
          "output_type": "display_data",
          "data": {
            "text/plain": [
              "<IPython.core.display.HTML object>"
            ],
            "text/html": [
              " View run <strong style=\"color:#cdcd00\">lunar-sweep-15</strong> at: <a href='https://wandb.ai/hiteshwaripatel408-sardar-vallabhbhai-national-institute/time-series-transformer/runs/i8f60wb4' target=\"_blank\">https://wandb.ai/hiteshwaripatel408-sardar-vallabhbhai-national-institute/time-series-transformer/runs/i8f60wb4</a><br> View project at: <a href='https://wandb.ai/hiteshwaripatel408-sardar-vallabhbhai-national-institute/time-series-transformer' target=\"_blank\">https://wandb.ai/hiteshwaripatel408-sardar-vallabhbhai-national-institute/time-series-transformer</a><br>Synced 5 W&B file(s), 0 media file(s), 0 artifact file(s) and 0 other file(s)"
            ]
          },
          "metadata": {}
        },
        {
          "output_type": "display_data",
          "data": {
            "text/plain": [
              "<IPython.core.display.HTML object>"
            ],
            "text/html": [
              "Find logs at: <code>./wandb/run-20250401_102605-i8f60wb4/logs</code>"
            ]
          },
          "metadata": {}
        },
        {
          "output_type": "stream",
          "name": "stderr",
          "text": [
            "\u001b[34m\u001b[1mwandb\u001b[0m: Agent Starting Run: nbtgl0fq with config:\n",
            "\u001b[34m\u001b[1mwandb\u001b[0m: \tbatch_size: 64\n",
            "\u001b[34m\u001b[1mwandb\u001b[0m: \td_model: 256\n",
            "\u001b[34m\u001b[1mwandb\u001b[0m: \tepochs: 50\n",
            "\u001b[34m\u001b[1mwandb\u001b[0m: \tlr: 0.00031208118695129187\n",
            "\u001b[34m\u001b[1mwandb\u001b[0m: \tmask_ratio: 0.1\n",
            "\u001b[34m\u001b[1mwandb\u001b[0m: \tnhead: 8\n",
            "\u001b[34m\u001b[1mwandb\u001b[0m: \tnum_layers: 3\n"
          ]
        },
        {
          "output_type": "display_data",
          "data": {
            "text/plain": [
              "<IPython.core.display.HTML object>"
            ],
            "text/html": [
              "Tracking run with wandb version 0.19.8"
            ]
          },
          "metadata": {}
        },
        {
          "output_type": "display_data",
          "data": {
            "text/plain": [
              "<IPython.core.display.HTML object>"
            ],
            "text/html": [
              "Run data is saved locally in <code>/content/wandb/run-20250401_103212-nbtgl0fq</code>"
            ]
          },
          "metadata": {}
        },
        {
          "output_type": "display_data",
          "data": {
            "text/plain": [
              "<IPython.core.display.HTML object>"
            ],
            "text/html": [
              "Syncing run <strong><a href='https://wandb.ai/hiteshwaripatel408-sardar-vallabhbhai-national-institute/time-series-transformer/runs/nbtgl0fq' target=\"_blank\">trim-sweep-16</a></strong> to <a href='https://wandb.ai/hiteshwaripatel408-sardar-vallabhbhai-national-institute/time-series-transformer' target=\"_blank\">Weights & Biases</a> (<a href='https://wandb.me/developer-guide' target=\"_blank\">docs</a>)<br>Sweep page: <a href='https://wandb.ai/hiteshwaripatel408-sardar-vallabhbhai-national-institute/time-series-transformer/sweeps/rl14t3ul' target=\"_blank\">https://wandb.ai/hiteshwaripatel408-sardar-vallabhbhai-national-institute/time-series-transformer/sweeps/rl14t3ul</a>"
            ]
          },
          "metadata": {}
        },
        {
          "output_type": "display_data",
          "data": {
            "text/plain": [
              "<IPython.core.display.HTML object>"
            ],
            "text/html": [
              " View project at <a href='https://wandb.ai/hiteshwaripatel408-sardar-vallabhbhai-national-institute/time-series-transformer' target=\"_blank\">https://wandb.ai/hiteshwaripatel408-sardar-vallabhbhai-national-institute/time-series-transformer</a>"
            ]
          },
          "metadata": {}
        },
        {
          "output_type": "display_data",
          "data": {
            "text/plain": [
              "<IPython.core.display.HTML object>"
            ],
            "text/html": [
              " View sweep at <a href='https://wandb.ai/hiteshwaripatel408-sardar-vallabhbhai-national-institute/time-series-transformer/sweeps/rl14t3ul' target=\"_blank\">https://wandb.ai/hiteshwaripatel408-sardar-vallabhbhai-national-institute/time-series-transformer/sweeps/rl14t3ul</a>"
            ]
          },
          "metadata": {}
        },
        {
          "output_type": "display_data",
          "data": {
            "text/plain": [
              "<IPython.core.display.HTML object>"
            ],
            "text/html": [
              " View run at <a href='https://wandb.ai/hiteshwaripatel408-sardar-vallabhbhai-national-institute/time-series-transformer/runs/nbtgl0fq' target=\"_blank\">https://wandb.ai/hiteshwaripatel408-sardar-vallabhbhai-national-institute/time-series-transformer/runs/nbtgl0fq</a>"
            ]
          },
          "metadata": {}
        },
        {
          "output_type": "display_data",
          "data": {
            "text/plain": [
              "<IPython.core.display.HTML object>"
            ],
            "text/html": []
          },
          "metadata": {}
        },
        {
          "output_type": "display_data",
          "data": {
            "text/plain": [
              "<IPython.core.display.HTML object>"
            ],
            "text/html": [
              "<br>    <style><br>        .wandb-row {<br>            display: flex;<br>            flex-direction: row;<br>            flex-wrap: wrap;<br>            justify-content: flex-start;<br>            width: 100%;<br>        }<br>        .wandb-col {<br>            display: flex;<br>            flex-direction: column;<br>            flex-basis: 100%;<br>            flex: 1;<br>            padding: 10px;<br>        }<br>    </style><br><div class=\"wandb-row\"><div class=\"wandb-col\"><h3>Run history:</h3><br/><table class=\"wandb\"><tr><td>epoch</td><td>▁▁▁▁▂▂▂▂▂▂▃▃▃▃▃▄▄▄▄▄▄▅▅▅▅▅▆▆▆▆▆▇▇▇▇▇▇███</td></tr><tr><td>lr</td><td>▁▁▁▁▁▁▁▁▁▁▁▁▁▁▁▁▁▁▁▁▁▁▁▁▁▁▁▁▁▁▁▁▁▁▁▁▁▁▁▁</td></tr><tr><td>train_loss</td><td>█▂▂▁▁▁▁▁▁▁▁▁▁▁▁▁▁▁▁▁▁▁▁▁▁▁▁▁▁▁▁▁▁▁▁▁▁▁▁▁</td></tr><tr><td>val_loss</td><td>█▃▃▂▁▂▁▁▁▁▁▁▁▁▁▂▂▂▂▁▂▂▃▂▂▃▂▃▂▃▃▄▃▃▃▃▃▃▄▄</td></tr></table><br/></div><div class=\"wandb-col\"><h3>Run summary:</h3><br/><table class=\"wandb\"><tr><td>epoch</td><td>49</td></tr><tr><td>lr</td><td>0.00031</td></tr><tr><td>train_loss</td><td>7e-05</td></tr><tr><td>val_loss</td><td>0.00099</td></tr></table><br/></div></div>"
            ]
          },
          "metadata": {}
        },
        {
          "output_type": "display_data",
          "data": {
            "text/plain": [
              "<IPython.core.display.HTML object>"
            ],
            "text/html": [
              " View run <strong style=\"color:#cdcd00\">trim-sweep-16</strong> at: <a href='https://wandb.ai/hiteshwaripatel408-sardar-vallabhbhai-national-institute/time-series-transformer/runs/nbtgl0fq' target=\"_blank\">https://wandb.ai/hiteshwaripatel408-sardar-vallabhbhai-national-institute/time-series-transformer/runs/nbtgl0fq</a><br> View project at: <a href='https://wandb.ai/hiteshwaripatel408-sardar-vallabhbhai-national-institute/time-series-transformer' target=\"_blank\">https://wandb.ai/hiteshwaripatel408-sardar-vallabhbhai-national-institute/time-series-transformer</a><br>Synced 5 W&B file(s), 0 media file(s), 0 artifact file(s) and 0 other file(s)"
            ]
          },
          "metadata": {}
        },
        {
          "output_type": "display_data",
          "data": {
            "text/plain": [
              "<IPython.core.display.HTML object>"
            ],
            "text/html": [
              "Find logs at: <code>./wandb/run-20250401_103212-nbtgl0fq/logs</code>"
            ]
          },
          "metadata": {}
        },
        {
          "output_type": "stream",
          "name": "stderr",
          "text": [
            "\u001b[34m\u001b[1mwandb\u001b[0m: Agent Starting Run: dvi0lejn with config:\n",
            "\u001b[34m\u001b[1mwandb\u001b[0m: \tbatch_size: 64\n",
            "\u001b[34m\u001b[1mwandb\u001b[0m: \td_model: 256\n",
            "\u001b[34m\u001b[1mwandb\u001b[0m: \tepochs: 50\n",
            "\u001b[34m\u001b[1mwandb\u001b[0m: \tlr: 0.0001989997661906166\n",
            "\u001b[34m\u001b[1mwandb\u001b[0m: \tmask_ratio: 0.1\n",
            "\u001b[34m\u001b[1mwandb\u001b[0m: \tnhead: 8\n",
            "\u001b[34m\u001b[1mwandb\u001b[0m: \tnum_layers: 3\n"
          ]
        },
        {
          "output_type": "display_data",
          "data": {
            "text/plain": [
              "<IPython.core.display.HTML object>"
            ],
            "text/html": [
              "Tracking run with wandb version 0.19.8"
            ]
          },
          "metadata": {}
        },
        {
          "output_type": "display_data",
          "data": {
            "text/plain": [
              "<IPython.core.display.HTML object>"
            ],
            "text/html": [
              "Run data is saved locally in <code>/content/wandb/run-20250401_103653-dvi0lejn</code>"
            ]
          },
          "metadata": {}
        },
        {
          "output_type": "display_data",
          "data": {
            "text/plain": [
              "<IPython.core.display.HTML object>"
            ],
            "text/html": [
              "Syncing run <strong><a href='https://wandb.ai/hiteshwaripatel408-sardar-vallabhbhai-national-institute/time-series-transformer/runs/dvi0lejn' target=\"_blank\">feasible-sweep-17</a></strong> to <a href='https://wandb.ai/hiteshwaripatel408-sardar-vallabhbhai-national-institute/time-series-transformer' target=\"_blank\">Weights & Biases</a> (<a href='https://wandb.me/developer-guide' target=\"_blank\">docs</a>)<br>Sweep page: <a href='https://wandb.ai/hiteshwaripatel408-sardar-vallabhbhai-national-institute/time-series-transformer/sweeps/rl14t3ul' target=\"_blank\">https://wandb.ai/hiteshwaripatel408-sardar-vallabhbhai-national-institute/time-series-transformer/sweeps/rl14t3ul</a>"
            ]
          },
          "metadata": {}
        },
        {
          "output_type": "display_data",
          "data": {
            "text/plain": [
              "<IPython.core.display.HTML object>"
            ],
            "text/html": [
              " View project at <a href='https://wandb.ai/hiteshwaripatel408-sardar-vallabhbhai-national-institute/time-series-transformer' target=\"_blank\">https://wandb.ai/hiteshwaripatel408-sardar-vallabhbhai-national-institute/time-series-transformer</a>"
            ]
          },
          "metadata": {}
        },
        {
          "output_type": "display_data",
          "data": {
            "text/plain": [
              "<IPython.core.display.HTML object>"
            ],
            "text/html": [
              " View sweep at <a href='https://wandb.ai/hiteshwaripatel408-sardar-vallabhbhai-national-institute/time-series-transformer/sweeps/rl14t3ul' target=\"_blank\">https://wandb.ai/hiteshwaripatel408-sardar-vallabhbhai-national-institute/time-series-transformer/sweeps/rl14t3ul</a>"
            ]
          },
          "metadata": {}
        },
        {
          "output_type": "display_data",
          "data": {
            "text/plain": [
              "<IPython.core.display.HTML object>"
            ],
            "text/html": [
              " View run at <a href='https://wandb.ai/hiteshwaripatel408-sardar-vallabhbhai-national-institute/time-series-transformer/runs/dvi0lejn' target=\"_blank\">https://wandb.ai/hiteshwaripatel408-sardar-vallabhbhai-national-institute/time-series-transformer/runs/dvi0lejn</a>"
            ]
          },
          "metadata": {}
        },
        {
          "output_type": "display_data",
          "data": {
            "text/plain": [
              "<IPython.core.display.HTML object>"
            ],
            "text/html": []
          },
          "metadata": {}
        },
        {
          "output_type": "display_data",
          "data": {
            "text/plain": [
              "<IPython.core.display.HTML object>"
            ],
            "text/html": [
              "<br>    <style><br>        .wandb-row {<br>            display: flex;<br>            flex-direction: row;<br>            flex-wrap: wrap;<br>            justify-content: flex-start;<br>            width: 100%;<br>        }<br>        .wandb-col {<br>            display: flex;<br>            flex-direction: column;<br>            flex-basis: 100%;<br>            flex: 1;<br>            padding: 10px;<br>        }<br>    </style><br><div class=\"wandb-row\"><div class=\"wandb-col\"><h3>Run history:</h3><br/><table class=\"wandb\"><tr><td>epoch</td><td>▁▁▁▁▂▂▂▂▂▂▃▃▃▃▃▄▄▄▄▄▄▅▅▅▅▅▅▆▆▆▆▆▇▇▇▇▇▇██</td></tr><tr><td>lr</td><td>▁▁▁▁▁▁▁▁▁▁▁▁▁▁▁▁▁▁▁▁▁▁▁▁▁▁▁▁▁▁▁▁▁▁▁▁▁▁▁▁</td></tr><tr><td>train_loss</td><td>█▂▂▂▁▁▁▁▁▁▁▁▁▁▁▁▁▁▁▁▁▁▁▁▁▁▁▁▁▁▁▁▁▁▁▁▁▁▁▁</td></tr><tr><td>val_loss</td><td>█▄▃▂▂▂▂▁▂▂▁▂▂▁▁▂▁▂▂▂▂▂▂▂▂▂▁▂▂▂▂▂▂▃▃▃▃▃▂▂</td></tr></table><br/></div><div class=\"wandb-col\"><h3>Run summary:</h3><br/><table class=\"wandb\"><tr><td>epoch</td><td>49</td></tr><tr><td>lr</td><td>0.0002</td></tr><tr><td>train_loss</td><td>8e-05</td></tr><tr><td>val_loss</td><td>0.00071</td></tr></table><br/></div></div>"
            ]
          },
          "metadata": {}
        },
        {
          "output_type": "display_data",
          "data": {
            "text/plain": [
              "<IPython.core.display.HTML object>"
            ],
            "text/html": [
              " View run <strong style=\"color:#cdcd00\">feasible-sweep-17</strong> at: <a href='https://wandb.ai/hiteshwaripatel408-sardar-vallabhbhai-national-institute/time-series-transformer/runs/dvi0lejn' target=\"_blank\">https://wandb.ai/hiteshwaripatel408-sardar-vallabhbhai-national-institute/time-series-transformer/runs/dvi0lejn</a><br> View project at: <a href='https://wandb.ai/hiteshwaripatel408-sardar-vallabhbhai-national-institute/time-series-transformer' target=\"_blank\">https://wandb.ai/hiteshwaripatel408-sardar-vallabhbhai-national-institute/time-series-transformer</a><br>Synced 5 W&B file(s), 0 media file(s), 0 artifact file(s) and 0 other file(s)"
            ]
          },
          "metadata": {}
        },
        {
          "output_type": "display_data",
          "data": {
            "text/plain": [
              "<IPython.core.display.HTML object>"
            ],
            "text/html": [
              "Find logs at: <code>./wandb/run-20250401_103653-dvi0lejn/logs</code>"
            ]
          },
          "metadata": {}
        },
        {
          "output_type": "stream",
          "name": "stderr",
          "text": [
            "\u001b[34m\u001b[1mwandb\u001b[0m: Agent Starting Run: z09pyow7 with config:\n",
            "\u001b[34m\u001b[1mwandb\u001b[0m: \tbatch_size: 64\n",
            "\u001b[34m\u001b[1mwandb\u001b[0m: \td_model: 256\n",
            "\u001b[34m\u001b[1mwandb\u001b[0m: \tepochs: 50\n",
            "\u001b[34m\u001b[1mwandb\u001b[0m: \tlr: 0.000317845398986599\n",
            "\u001b[34m\u001b[1mwandb\u001b[0m: \tmask_ratio: 0.1\n",
            "\u001b[34m\u001b[1mwandb\u001b[0m: \tnhead: 8\n",
            "\u001b[34m\u001b[1mwandb\u001b[0m: \tnum_layers: 3\n"
          ]
        },
        {
          "output_type": "display_data",
          "data": {
            "text/plain": [
              "<IPython.core.display.HTML object>"
            ],
            "text/html": [
              "Tracking run with wandb version 0.19.8"
            ]
          },
          "metadata": {}
        },
        {
          "output_type": "display_data",
          "data": {
            "text/plain": [
              "<IPython.core.display.HTML object>"
            ],
            "text/html": [
              "Run data is saved locally in <code>/content/wandb/run-20250401_104136-z09pyow7</code>"
            ]
          },
          "metadata": {}
        },
        {
          "output_type": "display_data",
          "data": {
            "text/plain": [
              "<IPython.core.display.HTML object>"
            ],
            "text/html": [
              "Syncing run <strong><a href='https://wandb.ai/hiteshwaripatel408-sardar-vallabhbhai-national-institute/time-series-transformer/runs/z09pyow7' target=\"_blank\">iconic-sweep-18</a></strong> to <a href='https://wandb.ai/hiteshwaripatel408-sardar-vallabhbhai-national-institute/time-series-transformer' target=\"_blank\">Weights & Biases</a> (<a href='https://wandb.me/developer-guide' target=\"_blank\">docs</a>)<br>Sweep page: <a href='https://wandb.ai/hiteshwaripatel408-sardar-vallabhbhai-national-institute/time-series-transformer/sweeps/rl14t3ul' target=\"_blank\">https://wandb.ai/hiteshwaripatel408-sardar-vallabhbhai-national-institute/time-series-transformer/sweeps/rl14t3ul</a>"
            ]
          },
          "metadata": {}
        },
        {
          "output_type": "display_data",
          "data": {
            "text/plain": [
              "<IPython.core.display.HTML object>"
            ],
            "text/html": [
              " View project at <a href='https://wandb.ai/hiteshwaripatel408-sardar-vallabhbhai-national-institute/time-series-transformer' target=\"_blank\">https://wandb.ai/hiteshwaripatel408-sardar-vallabhbhai-national-institute/time-series-transformer</a>"
            ]
          },
          "metadata": {}
        },
        {
          "output_type": "display_data",
          "data": {
            "text/plain": [
              "<IPython.core.display.HTML object>"
            ],
            "text/html": [
              " View sweep at <a href='https://wandb.ai/hiteshwaripatel408-sardar-vallabhbhai-national-institute/time-series-transformer/sweeps/rl14t3ul' target=\"_blank\">https://wandb.ai/hiteshwaripatel408-sardar-vallabhbhai-national-institute/time-series-transformer/sweeps/rl14t3ul</a>"
            ]
          },
          "metadata": {}
        },
        {
          "output_type": "display_data",
          "data": {
            "text/plain": [
              "<IPython.core.display.HTML object>"
            ],
            "text/html": [
              " View run at <a href='https://wandb.ai/hiteshwaripatel408-sardar-vallabhbhai-national-institute/time-series-transformer/runs/z09pyow7' target=\"_blank\">https://wandb.ai/hiteshwaripatel408-sardar-vallabhbhai-national-institute/time-series-transformer/runs/z09pyow7</a>"
            ]
          },
          "metadata": {}
        },
        {
          "output_type": "display_data",
          "data": {
            "text/plain": [
              "<IPython.core.display.HTML object>"
            ],
            "text/html": []
          },
          "metadata": {}
        },
        {
          "output_type": "display_data",
          "data": {
            "text/plain": [
              "<IPython.core.display.HTML object>"
            ],
            "text/html": [
              "<br>    <style><br>        .wandb-row {<br>            display: flex;<br>            flex-direction: row;<br>            flex-wrap: wrap;<br>            justify-content: flex-start;<br>            width: 100%;<br>        }<br>        .wandb-col {<br>            display: flex;<br>            flex-direction: column;<br>            flex-basis: 100%;<br>            flex: 1;<br>            padding: 10px;<br>        }<br>    </style><br><div class=\"wandb-row\"><div class=\"wandb-col\"><h3>Run history:</h3><br/><table class=\"wandb\"><tr><td>epoch</td><td>▁▁▁▁▂▂▂▂▂▂▃▃▃▃▃▄▄▄▄▄▄▅▅▅▅▅▆▆▆▆▆▆▇▇▇▇▇▇██</td></tr><tr><td>lr</td><td>▁▁▁▁▁▁▁▁▁▁▁▁▁▁▁▁▁▁▁▁▁▁▁▁▁▁▁▁▁▁▁▁▁▁▁▁▁▁▁▁</td></tr><tr><td>train_loss</td><td>█▂▂▁▁▁▁▁▁▁▁▁▁▁▁▁▁▁▁▁▁▁▁▁▁▁▁▁▁▁▁▁▁▁▁▁▁▁▁▁</td></tr><tr><td>val_loss</td><td>█▂▂▁▁▁▁▁▁▁▂▂▁▂▁▂▂▁▂▁▁▂▂▂▂▂▂▂▂▂▃▂▂▃▃▃▃▃▃▃</td></tr></table><br/></div><div class=\"wandb-col\"><h3>Run summary:</h3><br/><table class=\"wandb\"><tr><td>epoch</td><td>49</td></tr><tr><td>lr</td><td>0.00032</td></tr><tr><td>train_loss</td><td>7e-05</td></tr><tr><td>val_loss</td><td>0.00105</td></tr></table><br/></div></div>"
            ]
          },
          "metadata": {}
        },
        {
          "output_type": "display_data",
          "data": {
            "text/plain": [
              "<IPython.core.display.HTML object>"
            ],
            "text/html": [
              " View run <strong style=\"color:#cdcd00\">iconic-sweep-18</strong> at: <a href='https://wandb.ai/hiteshwaripatel408-sardar-vallabhbhai-national-institute/time-series-transformer/runs/z09pyow7' target=\"_blank\">https://wandb.ai/hiteshwaripatel408-sardar-vallabhbhai-national-institute/time-series-transformer/runs/z09pyow7</a><br> View project at: <a href='https://wandb.ai/hiteshwaripatel408-sardar-vallabhbhai-national-institute/time-series-transformer' target=\"_blank\">https://wandb.ai/hiteshwaripatel408-sardar-vallabhbhai-national-institute/time-series-transformer</a><br>Synced 5 W&B file(s), 0 media file(s), 0 artifact file(s) and 0 other file(s)"
            ]
          },
          "metadata": {}
        },
        {
          "output_type": "display_data",
          "data": {
            "text/plain": [
              "<IPython.core.display.HTML object>"
            ],
            "text/html": [
              "Find logs at: <code>./wandb/run-20250401_104136-z09pyow7/logs</code>"
            ]
          },
          "metadata": {}
        },
        {
          "output_type": "stream",
          "name": "stderr",
          "text": [
            "\u001b[34m\u001b[1mwandb\u001b[0m: Agent Starting Run: 5xdeatnm with config:\n",
            "\u001b[34m\u001b[1mwandb\u001b[0m: \tbatch_size: 64\n",
            "\u001b[34m\u001b[1mwandb\u001b[0m: \td_model: 256\n",
            "\u001b[34m\u001b[1mwandb\u001b[0m: \tepochs: 50\n",
            "\u001b[34m\u001b[1mwandb\u001b[0m: \tlr: 0.0005993679744306995\n",
            "\u001b[34m\u001b[1mwandb\u001b[0m: \tmask_ratio: 0.2\n",
            "\u001b[34m\u001b[1mwandb\u001b[0m: \tnhead: 8\n",
            "\u001b[34m\u001b[1mwandb\u001b[0m: \tnum_layers: 3\n"
          ]
        },
        {
          "output_type": "display_data",
          "data": {
            "text/plain": [
              "<IPython.core.display.HTML object>"
            ],
            "text/html": [
              "Tracking run with wandb version 0.19.8"
            ]
          },
          "metadata": {}
        },
        {
          "output_type": "display_data",
          "data": {
            "text/plain": [
              "<IPython.core.display.HTML object>"
            ],
            "text/html": [
              "Run data is saved locally in <code>/content/wandb/run-20250401_104616-5xdeatnm</code>"
            ]
          },
          "metadata": {}
        },
        {
          "output_type": "display_data",
          "data": {
            "text/plain": [
              "<IPython.core.display.HTML object>"
            ],
            "text/html": [
              "Syncing run <strong><a href='https://wandb.ai/hiteshwaripatel408-sardar-vallabhbhai-national-institute/time-series-transformer/runs/5xdeatnm' target=\"_blank\">sweet-sweep-2</a></strong> to <a href='https://wandb.ai/hiteshwaripatel408-sardar-vallabhbhai-national-institute/time-series-transformer' target=\"_blank\">Weights & Biases</a> (<a href='https://wandb.me/developer-guide' target=\"_blank\">docs</a>)<br>Sweep page: <a href='https://wandb.ai/hiteshwaripatel408-sardar-vallabhbhai-national-institute/time-series-transformer/sweeps/rl14t3ul' target=\"_blank\">https://wandb.ai/hiteshwaripatel408-sardar-vallabhbhai-national-institute/time-series-transformer/sweeps/rl14t3ul</a>"
            ]
          },
          "metadata": {}
        },
        {
          "output_type": "display_data",
          "data": {
            "text/plain": [
              "<IPython.core.display.HTML object>"
            ],
            "text/html": [
              " View project at <a href='https://wandb.ai/hiteshwaripatel408-sardar-vallabhbhai-national-institute/time-series-transformer' target=\"_blank\">https://wandb.ai/hiteshwaripatel408-sardar-vallabhbhai-national-institute/time-series-transformer</a>"
            ]
          },
          "metadata": {}
        },
        {
          "output_type": "display_data",
          "data": {
            "text/plain": [
              "<IPython.core.display.HTML object>"
            ],
            "text/html": [
              " View sweep at <a href='https://wandb.ai/hiteshwaripatel408-sardar-vallabhbhai-national-institute/time-series-transformer/sweeps/rl14t3ul' target=\"_blank\">https://wandb.ai/hiteshwaripatel408-sardar-vallabhbhai-national-institute/time-series-transformer/sweeps/rl14t3ul</a>"
            ]
          },
          "metadata": {}
        },
        {
          "output_type": "display_data",
          "data": {
            "text/plain": [
              "<IPython.core.display.HTML object>"
            ],
            "text/html": [
              " View run at <a href='https://wandb.ai/hiteshwaripatel408-sardar-vallabhbhai-national-institute/time-series-transformer/runs/5xdeatnm' target=\"_blank\">https://wandb.ai/hiteshwaripatel408-sardar-vallabhbhai-national-institute/time-series-transformer/runs/5xdeatnm</a>"
            ]
          },
          "metadata": {}
        },
        {
          "output_type": "display_data",
          "data": {
            "text/plain": [
              "<IPython.core.display.HTML object>"
            ],
            "text/html": []
          },
          "metadata": {}
        },
        {
          "output_type": "display_data",
          "data": {
            "text/plain": [
              "<IPython.core.display.HTML object>"
            ],
            "text/html": [
              "<br>    <style><br>        .wandb-row {<br>            display: flex;<br>            flex-direction: row;<br>            flex-wrap: wrap;<br>            justify-content: flex-start;<br>            width: 100%;<br>        }<br>        .wandb-col {<br>            display: flex;<br>            flex-direction: column;<br>            flex-basis: 100%;<br>            flex: 1;<br>            padding: 10px;<br>        }<br>    </style><br><div class=\"wandb-row\"><div class=\"wandb-col\"><h3>Run history:</h3><br/><table class=\"wandb\"><tr><td>epoch</td><td>▁▁▁▁▂▂▂▂▂▂▃▃▃▃▃▄▄▄▄▄▅▅▅▅▅▅▆▆▆▆▆▆▇▇▇▇▇▇██</td></tr><tr><td>lr</td><td>▁▁▁▁▁▁▁▁▁▁▁▁▁▁▁▁▁▁▁▁▁▁▁▁▁▁▁▁▁▁▁▁▁▁▁▁▁▁▁▁</td></tr><tr><td>train_loss</td><td>█▂▁▁▁▁▁▁▁▁▁▁▁▁▁▁▁▁▁▁▁▁▁▁▁▁▁▁▁▁▁▁▁▁▁▁▁▁▁▁</td></tr><tr><td>val_loss</td><td>█▂▂▂▂▁▁▁▁▂▂▁▁▁▁▁▁▁▁▁▁▁▁▁▁▁▁▁▂▂▂▂▂▂▂▂▃▂▂▃</td></tr></table><br/></div><div class=\"wandb-col\"><h3>Run summary:</h3><br/><table class=\"wandb\"><tr><td>epoch</td><td>49</td></tr><tr><td>lr</td><td>0.0006</td></tr><tr><td>train_loss</td><td>0.00012</td></tr><tr><td>val_loss</td><td>0.00317</td></tr></table><br/></div></div>"
            ]
          },
          "metadata": {}
        },
        {
          "output_type": "display_data",
          "data": {
            "text/plain": [
              "<IPython.core.display.HTML object>"
            ],
            "text/html": [
              " View run <strong style=\"color:#cdcd00\">sweet-sweep-2</strong> at: <a href='https://wandb.ai/hiteshwaripatel408-sardar-vallabhbhai-national-institute/time-series-transformer/runs/5xdeatnm' target=\"_blank\">https://wandb.ai/hiteshwaripatel408-sardar-vallabhbhai-national-institute/time-series-transformer/runs/5xdeatnm</a><br> View project at: <a href='https://wandb.ai/hiteshwaripatel408-sardar-vallabhbhai-national-institute/time-series-transformer' target=\"_blank\">https://wandb.ai/hiteshwaripatel408-sardar-vallabhbhai-national-institute/time-series-transformer</a><br>Synced 5 W&B file(s), 0 media file(s), 0 artifact file(s) and 0 other file(s)"
            ]
          },
          "metadata": {}
        },
        {
          "output_type": "display_data",
          "data": {
            "text/plain": [
              "<IPython.core.display.HTML object>"
            ],
            "text/html": [
              "Find logs at: <code>./wandb/run-20250401_104616-5xdeatnm/logs</code>"
            ]
          },
          "metadata": {}
        },
        {
          "output_type": "stream",
          "name": "stderr",
          "text": [
            "\u001b[34m\u001b[1mwandb\u001b[0m: Agent Starting Run: q31l2e3y with config:\n",
            "\u001b[34m\u001b[1mwandb\u001b[0m: \tbatch_size: 64\n",
            "\u001b[34m\u001b[1mwandb\u001b[0m: \td_model: 256\n",
            "\u001b[34m\u001b[1mwandb\u001b[0m: \tepochs: 50\n",
            "\u001b[34m\u001b[1mwandb\u001b[0m: \tlr: 0.0004279373708468858\n",
            "\u001b[34m\u001b[1mwandb\u001b[0m: \tmask_ratio: 0.1\n",
            "\u001b[34m\u001b[1mwandb\u001b[0m: \tnhead: 8\n",
            "\u001b[34m\u001b[1mwandb\u001b[0m: \tnum_layers: 2\n"
          ]
        },
        {
          "output_type": "display_data",
          "data": {
            "text/plain": [
              "<IPython.core.display.HTML object>"
            ],
            "text/html": [
              "Tracking run with wandb version 0.19.8"
            ]
          },
          "metadata": {}
        },
        {
          "output_type": "display_data",
          "data": {
            "text/plain": [
              "<IPython.core.display.HTML object>"
            ],
            "text/html": [
              "Run data is saved locally in <code>/content/wandb/run-20250401_105054-q31l2e3y</code>"
            ]
          },
          "metadata": {}
        },
        {
          "output_type": "display_data",
          "data": {
            "text/plain": [
              "<IPython.core.display.HTML object>"
            ],
            "text/html": [
              "Syncing run <strong><a href='https://wandb.ai/hiteshwaripatel408-sardar-vallabhbhai-national-institute/time-series-transformer/runs/q31l2e3y' target=\"_blank\">sweepy-sweep-19</a></strong> to <a href='https://wandb.ai/hiteshwaripatel408-sardar-vallabhbhai-national-institute/time-series-transformer' target=\"_blank\">Weights & Biases</a> (<a href='https://wandb.me/developer-guide' target=\"_blank\">docs</a>)<br>Sweep page: <a href='https://wandb.ai/hiteshwaripatel408-sardar-vallabhbhai-national-institute/time-series-transformer/sweeps/rl14t3ul' target=\"_blank\">https://wandb.ai/hiteshwaripatel408-sardar-vallabhbhai-national-institute/time-series-transformer/sweeps/rl14t3ul</a>"
            ]
          },
          "metadata": {}
        },
        {
          "output_type": "display_data",
          "data": {
            "text/plain": [
              "<IPython.core.display.HTML object>"
            ],
            "text/html": [
              " View project at <a href='https://wandb.ai/hiteshwaripatel408-sardar-vallabhbhai-national-institute/time-series-transformer' target=\"_blank\">https://wandb.ai/hiteshwaripatel408-sardar-vallabhbhai-national-institute/time-series-transformer</a>"
            ]
          },
          "metadata": {}
        },
        {
          "output_type": "display_data",
          "data": {
            "text/plain": [
              "<IPython.core.display.HTML object>"
            ],
            "text/html": [
              " View sweep at <a href='https://wandb.ai/hiteshwaripatel408-sardar-vallabhbhai-national-institute/time-series-transformer/sweeps/rl14t3ul' target=\"_blank\">https://wandb.ai/hiteshwaripatel408-sardar-vallabhbhai-national-institute/time-series-transformer/sweeps/rl14t3ul</a>"
            ]
          },
          "metadata": {}
        },
        {
          "output_type": "display_data",
          "data": {
            "text/plain": [
              "<IPython.core.display.HTML object>"
            ],
            "text/html": [
              " View run at <a href='https://wandb.ai/hiteshwaripatel408-sardar-vallabhbhai-national-institute/time-series-transformer/runs/q31l2e3y' target=\"_blank\">https://wandb.ai/hiteshwaripatel408-sardar-vallabhbhai-national-institute/time-series-transformer/runs/q31l2e3y</a>"
            ]
          },
          "metadata": {}
        },
        {
          "output_type": "display_data",
          "data": {
            "text/plain": [
              "<IPython.core.display.HTML object>"
            ],
            "text/html": []
          },
          "metadata": {}
        },
        {
          "output_type": "display_data",
          "data": {
            "text/plain": [
              "<IPython.core.display.HTML object>"
            ],
            "text/html": [
              "<br>    <style><br>        .wandb-row {<br>            display: flex;<br>            flex-direction: row;<br>            flex-wrap: wrap;<br>            justify-content: flex-start;<br>            width: 100%;<br>        }<br>        .wandb-col {<br>            display: flex;<br>            flex-direction: column;<br>            flex-basis: 100%;<br>            flex: 1;<br>            padding: 10px;<br>        }<br>    </style><br><div class=\"wandb-row\"><div class=\"wandb-col\"><h3>Run history:</h3><br/><table class=\"wandb\"><tr><td>epoch</td><td>▁▁▁▁▂▂▂▂▂▃▃▃▃▃▃▄▄▄▄▄▅▅▅▅▅▅▆▆▆▆▆▆▇▇▇▇▇▇██</td></tr><tr><td>lr</td><td>▁▁▁▁▁▁▁▁▁▁▁▁▁▁▁▁▁▁▁▁▁▁▁▁▁▁▁▁▁▁▁▁▁▁▁▁▁▁▁▁</td></tr><tr><td>train_loss</td><td>█▂▂▁▁▁▁▁▁▁▁▁▁▁▁▁▁▁▁▁▁▁▁▁▁▁▁▁▁▁▁▁▁▁▁▁▁▁▁▁</td></tr><tr><td>val_loss</td><td>█▃▃▂▂▂▂▂▁▁▁▁▂▁▁▁▁▁▂▁▁▂▁▂▂▂▂▂▂▂▂▂▂▂▂▂▂▂▂▂</td></tr></table><br/></div><div class=\"wandb-col\"><h3>Run summary:</h3><br/><table class=\"wandb\"><tr><td>epoch</td><td>49</td></tr><tr><td>lr</td><td>0.00043</td></tr><tr><td>train_loss</td><td>7e-05</td></tr><tr><td>val_loss</td><td>0.00069</td></tr></table><br/></div></div>"
            ]
          },
          "metadata": {}
        },
        {
          "output_type": "display_data",
          "data": {
            "text/plain": [
              "<IPython.core.display.HTML object>"
            ],
            "text/html": [
              " View run <strong style=\"color:#cdcd00\">sweepy-sweep-19</strong> at: <a href='https://wandb.ai/hiteshwaripatel408-sardar-vallabhbhai-national-institute/time-series-transformer/runs/q31l2e3y' target=\"_blank\">https://wandb.ai/hiteshwaripatel408-sardar-vallabhbhai-national-institute/time-series-transformer/runs/q31l2e3y</a><br> View project at: <a href='https://wandb.ai/hiteshwaripatel408-sardar-vallabhbhai-national-institute/time-series-transformer' target=\"_blank\">https://wandb.ai/hiteshwaripatel408-sardar-vallabhbhai-national-institute/time-series-transformer</a><br>Synced 5 W&B file(s), 0 media file(s), 0 artifact file(s) and 0 other file(s)"
            ]
          },
          "metadata": {}
        },
        {
          "output_type": "display_data",
          "data": {
            "text/plain": [
              "<IPython.core.display.HTML object>"
            ],
            "text/html": [
              "Find logs at: <code>./wandb/run-20250401_105054-q31l2e3y/logs</code>"
            ]
          },
          "metadata": {}
        },
        {
          "output_type": "stream",
          "name": "stderr",
          "text": [
            "\u001b[34m\u001b[1mwandb\u001b[0m: Sweep Agent: Waiting for job.\n",
            "\u001b[34m\u001b[1mwandb\u001b[0m: Job received.\n",
            "\u001b[34m\u001b[1mwandb\u001b[0m: Agent Starting Run: 1vl6iv0f with config:\n",
            "\u001b[34m\u001b[1mwandb\u001b[0m: \tbatch_size: 64\n",
            "\u001b[34m\u001b[1mwandb\u001b[0m: \td_model: 256\n",
            "\u001b[34m\u001b[1mwandb\u001b[0m: \tepochs: 50\n",
            "\u001b[34m\u001b[1mwandb\u001b[0m: \tlr: 0.00023052204132007257\n",
            "\u001b[34m\u001b[1mwandb\u001b[0m: \tmask_ratio: 0.1\n",
            "\u001b[34m\u001b[1mwandb\u001b[0m: \tnhead: 8\n",
            "\u001b[34m\u001b[1mwandb\u001b[0m: \tnum_layers: 3\n"
          ]
        },
        {
          "output_type": "display_data",
          "data": {
            "text/plain": [
              "<IPython.core.display.HTML object>"
            ],
            "text/html": [
              "Tracking run with wandb version 0.19.8"
            ]
          },
          "metadata": {}
        },
        {
          "output_type": "display_data",
          "data": {
            "text/plain": [
              "<IPython.core.display.HTML object>"
            ],
            "text/html": [
              "Run data is saved locally in <code>/content/wandb/run-20250401_105412-1vl6iv0f</code>"
            ]
          },
          "metadata": {}
        },
        {
          "output_type": "display_data",
          "data": {
            "text/plain": [
              "<IPython.core.display.HTML object>"
            ],
            "text/html": [
              "Syncing run <strong><a href='https://wandb.ai/hiteshwaripatel408-sardar-vallabhbhai-national-institute/time-series-transformer/runs/1vl6iv0f' target=\"_blank\">peachy-sweep-20</a></strong> to <a href='https://wandb.ai/hiteshwaripatel408-sardar-vallabhbhai-national-institute/time-series-transformer' target=\"_blank\">Weights & Biases</a> (<a href='https://wandb.me/developer-guide' target=\"_blank\">docs</a>)<br>Sweep page: <a href='https://wandb.ai/hiteshwaripatel408-sardar-vallabhbhai-national-institute/time-series-transformer/sweeps/rl14t3ul' target=\"_blank\">https://wandb.ai/hiteshwaripatel408-sardar-vallabhbhai-national-institute/time-series-transformer/sweeps/rl14t3ul</a>"
            ]
          },
          "metadata": {}
        },
        {
          "output_type": "display_data",
          "data": {
            "text/plain": [
              "<IPython.core.display.HTML object>"
            ],
            "text/html": [
              " View project at <a href='https://wandb.ai/hiteshwaripatel408-sardar-vallabhbhai-national-institute/time-series-transformer' target=\"_blank\">https://wandb.ai/hiteshwaripatel408-sardar-vallabhbhai-national-institute/time-series-transformer</a>"
            ]
          },
          "metadata": {}
        },
        {
          "output_type": "display_data",
          "data": {
            "text/plain": [
              "<IPython.core.display.HTML object>"
            ],
            "text/html": [
              " View sweep at <a href='https://wandb.ai/hiteshwaripatel408-sardar-vallabhbhai-national-institute/time-series-transformer/sweeps/rl14t3ul' target=\"_blank\">https://wandb.ai/hiteshwaripatel408-sardar-vallabhbhai-national-institute/time-series-transformer/sweeps/rl14t3ul</a>"
            ]
          },
          "metadata": {}
        },
        {
          "output_type": "display_data",
          "data": {
            "text/plain": [
              "<IPython.core.display.HTML object>"
            ],
            "text/html": [
              " View run at <a href='https://wandb.ai/hiteshwaripatel408-sardar-vallabhbhai-national-institute/time-series-transformer/runs/1vl6iv0f' target=\"_blank\">https://wandb.ai/hiteshwaripatel408-sardar-vallabhbhai-national-institute/time-series-transformer/runs/1vl6iv0f</a>"
            ]
          },
          "metadata": {}
        },
        {
          "output_type": "display_data",
          "data": {
            "text/plain": [
              "<IPython.core.display.HTML object>"
            ],
            "text/html": []
          },
          "metadata": {}
        },
        {
          "output_type": "display_data",
          "data": {
            "text/plain": [
              "<IPython.core.display.HTML object>"
            ],
            "text/html": [
              "<br>    <style><br>        .wandb-row {<br>            display: flex;<br>            flex-direction: row;<br>            flex-wrap: wrap;<br>            justify-content: flex-start;<br>            width: 100%;<br>        }<br>        .wandb-col {<br>            display: flex;<br>            flex-direction: column;<br>            flex-basis: 100%;<br>            flex: 1;<br>            padding: 10px;<br>        }<br>    </style><br><div class=\"wandb-row\"><div class=\"wandb-col\"><h3>Run history:</h3><br/><table class=\"wandb\"><tr><td>epoch</td><td>▁▁▁▁▂▂▂▂▂▃▃▃▃▃▃▄▄▄▄▄▅▅▅▅▅▅▆▆▆▆▆▇▇▇▇▇▇███</td></tr><tr><td>lr</td><td>▁▁▁▁▁▁▁▁▁▁▁▁▁▁▁▁▁▁▁▁▁▁▁▁▁▁▁▁▁▁▁▁▁▁▁▁▁▁▁▁</td></tr><tr><td>train_loss</td><td>█▂▂▁▁▁▁▁▁▁▁▁▁▁▁▁▁▁▁▁▁▁▁▁▁▁▁▁▁▁▁▁▁▁▁▁▁▁▁▁</td></tr><tr><td>val_loss</td><td>█▃▃▂▂▁▁▁▁▁▂▁▂▁▂▂▂▂▃▁▂▃▂▃▂▃▃▃▃▃▃▃▃▃▃▃▃▃▃▃</td></tr></table><br/></div><div class=\"wandb-col\"><h3>Run summary:</h3><br/><table class=\"wandb\"><tr><td>epoch</td><td>49</td></tr><tr><td>lr</td><td>0.00023</td></tr><tr><td>train_loss</td><td>8e-05</td></tr><tr><td>val_loss</td><td>0.00094</td></tr></table><br/></div></div>"
            ]
          },
          "metadata": {}
        },
        {
          "output_type": "display_data",
          "data": {
            "text/plain": [
              "<IPython.core.display.HTML object>"
            ],
            "text/html": [
              " View run <strong style=\"color:#cdcd00\">peachy-sweep-20</strong> at: <a href='https://wandb.ai/hiteshwaripatel408-sardar-vallabhbhai-national-institute/time-series-transformer/runs/1vl6iv0f' target=\"_blank\">https://wandb.ai/hiteshwaripatel408-sardar-vallabhbhai-national-institute/time-series-transformer/runs/1vl6iv0f</a><br> View project at: <a href='https://wandb.ai/hiteshwaripatel408-sardar-vallabhbhai-national-institute/time-series-transformer' target=\"_blank\">https://wandb.ai/hiteshwaripatel408-sardar-vallabhbhai-national-institute/time-series-transformer</a><br>Synced 5 W&B file(s), 0 media file(s), 0 artifact file(s) and 0 other file(s)"
            ]
          },
          "metadata": {}
        },
        {
          "output_type": "display_data",
          "data": {
            "text/plain": [
              "<IPython.core.display.HTML object>"
            ],
            "text/html": [
              "Find logs at: <code>./wandb/run-20250401_105412-1vl6iv0f/logs</code>"
            ]
          },
          "metadata": {}
        },
        {
          "output_type": "stream",
          "name": "stderr",
          "text": [
            "\u001b[34m\u001b[1mwandb\u001b[0m: Agent Starting Run: 8ezfiiba with config:\n",
            "\u001b[34m\u001b[1mwandb\u001b[0m: \tbatch_size: 64\n",
            "\u001b[34m\u001b[1mwandb\u001b[0m: \td_model: 256\n",
            "\u001b[34m\u001b[1mwandb\u001b[0m: \tepochs: 50\n",
            "\u001b[34m\u001b[1mwandb\u001b[0m: \tlr: 0.0002000845952882663\n",
            "\u001b[34m\u001b[1mwandb\u001b[0m: \tmask_ratio: 0.1\n",
            "\u001b[34m\u001b[1mwandb\u001b[0m: \tnhead: 8\n",
            "\u001b[34m\u001b[1mwandb\u001b[0m: \tnum_layers: 4\n"
          ]
        },
        {
          "output_type": "display_data",
          "data": {
            "text/plain": [
              "<IPython.core.display.HTML object>"
            ],
            "text/html": [
              "Tracking run with wandb version 0.19.8"
            ]
          },
          "metadata": {}
        },
        {
          "output_type": "display_data",
          "data": {
            "text/plain": [
              "<IPython.core.display.HTML object>"
            ],
            "text/html": [
              "Run data is saved locally in <code>/content/wandb/run-20250401_105850-8ezfiiba</code>"
            ]
          },
          "metadata": {}
        },
        {
          "output_type": "display_data",
          "data": {
            "text/plain": [
              "<IPython.core.display.HTML object>"
            ],
            "text/html": [
              "Syncing run <strong><a href='https://wandb.ai/hiteshwaripatel408-sardar-vallabhbhai-national-institute/time-series-transformer/runs/8ezfiiba' target=\"_blank\">easy-sweep-21</a></strong> to <a href='https://wandb.ai/hiteshwaripatel408-sardar-vallabhbhai-national-institute/time-series-transformer' target=\"_blank\">Weights & Biases</a> (<a href='https://wandb.me/developer-guide' target=\"_blank\">docs</a>)<br>Sweep page: <a href='https://wandb.ai/hiteshwaripatel408-sardar-vallabhbhai-national-institute/time-series-transformer/sweeps/rl14t3ul' target=\"_blank\">https://wandb.ai/hiteshwaripatel408-sardar-vallabhbhai-national-institute/time-series-transformer/sweeps/rl14t3ul</a>"
            ]
          },
          "metadata": {}
        },
        {
          "output_type": "display_data",
          "data": {
            "text/plain": [
              "<IPython.core.display.HTML object>"
            ],
            "text/html": [
              " View project at <a href='https://wandb.ai/hiteshwaripatel408-sardar-vallabhbhai-national-institute/time-series-transformer' target=\"_blank\">https://wandb.ai/hiteshwaripatel408-sardar-vallabhbhai-national-institute/time-series-transformer</a>"
            ]
          },
          "metadata": {}
        },
        {
          "output_type": "display_data",
          "data": {
            "text/plain": [
              "<IPython.core.display.HTML object>"
            ],
            "text/html": [
              " View sweep at <a href='https://wandb.ai/hiteshwaripatel408-sardar-vallabhbhai-national-institute/time-series-transformer/sweeps/rl14t3ul' target=\"_blank\">https://wandb.ai/hiteshwaripatel408-sardar-vallabhbhai-national-institute/time-series-transformer/sweeps/rl14t3ul</a>"
            ]
          },
          "metadata": {}
        },
        {
          "output_type": "display_data",
          "data": {
            "text/plain": [
              "<IPython.core.display.HTML object>"
            ],
            "text/html": [
              " View run at <a href='https://wandb.ai/hiteshwaripatel408-sardar-vallabhbhai-national-institute/time-series-transformer/runs/8ezfiiba' target=\"_blank\">https://wandb.ai/hiteshwaripatel408-sardar-vallabhbhai-national-institute/time-series-transformer/runs/8ezfiiba</a>"
            ]
          },
          "metadata": {}
        },
        {
          "output_type": "display_data",
          "data": {
            "text/plain": [
              "<IPython.core.display.HTML object>"
            ],
            "text/html": []
          },
          "metadata": {}
        },
        {
          "output_type": "display_data",
          "data": {
            "text/plain": [
              "<IPython.core.display.HTML object>"
            ],
            "text/html": [
              "<br>    <style><br>        .wandb-row {<br>            display: flex;<br>            flex-direction: row;<br>            flex-wrap: wrap;<br>            justify-content: flex-start;<br>            width: 100%;<br>        }<br>        .wandb-col {<br>            display: flex;<br>            flex-direction: column;<br>            flex-basis: 100%;<br>            flex: 1;<br>            padding: 10px;<br>        }<br>    </style><br><div class=\"wandb-row\"><div class=\"wandb-col\"><h3>Run history:</h3><br/><table class=\"wandb\"><tr><td>epoch</td><td>▁▁▁▁▂▂▂▂▂▂▃▃▃▃▃▄▄▄▄▄▅▅▅▅▅▆▆▆▆▆▆▇▇▇▇▇▇███</td></tr><tr><td>lr</td><td>▁▁▁▁▁▁▁▁▁▁▁▁▁▁▁▁▁▁▁▁▁▁▁▁▁▁▁▁▁▁▁▁▁▁▁▁▁▁▁▁</td></tr><tr><td>train_loss</td><td>█▂▂▁▁▁▁▁▁▁▁▁▁▁▁▁▁▁▁▁▁▁▁▁▁▁▁▁▁▁▁▁▁▁▁▁▁▁▁▁</td></tr><tr><td>val_loss</td><td>█▃▂▂▂▁▁▂▃▁▂▂▁▂▂▂▂▂▂▂▂▂▃▄▂▃▃▂▃▄▄▃▄▄▄▄▄▅▅▅</td></tr></table><br/></div><div class=\"wandb-col\"><h3>Run summary:</h3><br/><table class=\"wandb\"><tr><td>epoch</td><td>49</td></tr><tr><td>lr</td><td>0.0002</td></tr><tr><td>train_loss</td><td>8e-05</td></tr><tr><td>val_loss</td><td>0.00122</td></tr></table><br/></div></div>"
            ]
          },
          "metadata": {}
        },
        {
          "output_type": "display_data",
          "data": {
            "text/plain": [
              "<IPython.core.display.HTML object>"
            ],
            "text/html": [
              " View run <strong style=\"color:#cdcd00\">easy-sweep-21</strong> at: <a href='https://wandb.ai/hiteshwaripatel408-sardar-vallabhbhai-national-institute/time-series-transformer/runs/8ezfiiba' target=\"_blank\">https://wandb.ai/hiteshwaripatel408-sardar-vallabhbhai-national-institute/time-series-transformer/runs/8ezfiiba</a><br> View project at: <a href='https://wandb.ai/hiteshwaripatel408-sardar-vallabhbhai-national-institute/time-series-transformer' target=\"_blank\">https://wandb.ai/hiteshwaripatel408-sardar-vallabhbhai-national-institute/time-series-transformer</a><br>Synced 5 W&B file(s), 0 media file(s), 0 artifact file(s) and 0 other file(s)"
            ]
          },
          "metadata": {}
        },
        {
          "output_type": "display_data",
          "data": {
            "text/plain": [
              "<IPython.core.display.HTML object>"
            ],
            "text/html": [
              "Find logs at: <code>./wandb/run-20250401_105850-8ezfiiba/logs</code>"
            ]
          },
          "metadata": {}
        }
      ]
    },
    {
      "cell_type": "code",
      "source": [
        "# Visualization Using W&B\n",
        "import matplotlib.pyplot as plt\n",
        "import wandb\n",
        "import numpy as np\n",
        "\n",
        "# 1. Initialize connection\n",
        "api = wandb.Api()\n",
        "sweep = api.sweep(\"hiteshwaripatel408-sardar-vallabhbhai-national-institute/time-series-transformer/sweeps/rl14t3ul\")\n",
        "best_run = sweep.best_run()\n",
        "\n",
        "# 2. Get all runs grouped by mask_ratio\n",
        "mask_results = {}\n",
        "for run in sweep.runs:\n",
        "    ratio = run.config.get('mask_ratio')\n",
        "    if ratio not in mask_results:\n",
        "        mask_results[ratio] = []\n",
        "    mask_results[ratio].append(run.summary.get('val_loss', np.nan))\n",
        "\n",
        "# 3. Prepare data for plotting\n",
        "mask_ratios = sorted(mask_results.keys())\n",
        "avg_losses = [np.nanmean(mask_results[ratio]) for ratio in mask_ratios]\n",
        "\n",
        "# 4. Create visualization\n",
        "plt.figure(figsize=(15, 6))\n",
        "\n",
        "# Plot 1: Training Curve\n",
        "plt.subplot(1, 2, 1)\n",
        "history = best_run.history()\n",
        "plt.plot(history['epoch'], history['train_loss'], label='Train')\n",
        "plt.plot(history['epoch'], history['val_loss'], label='Validation')\n",
        "plt.title(f\"Best Run (Mask Ratio={best_run.config.get('mask_ratio', 'N/A')})\")\n",
        "plt.xlabel(\"Epoch\")\n",
        "plt.ylabel(\"Loss\")\n",
        "plt.legend()\n",
        "\n",
        "# Plot 2: Mask Ratio Performance\n",
        "plt.subplot(1, 2, 2)\n",
        "plt.bar([str(r) for r in mask_ratios], avg_losses)\n",
        "plt.title(\"Validation Loss by Mask Ratio\")\n",
        "plt.xlabel(\"Mask Ratio\")\n",
        "plt.ylabel(\"Loss\")\n",
        "plt.tight_layout()\n",
        "\n",
        "# 5. Print results\n",
        "print(\"=== Best Run ===\")\n",
        "print(f\"Config: {best_run.config}\")\n",
        "print(f\"Best Val Loss: {best_run.summary.get('val_loss', 'N/A')}\\n\")\n",
        "\n",
        "print(\"=== Performance by Mask Ratio ===\")\n",
        "for ratio, loss in zip(mask_ratios, avg_losses):\n",
        "    print(f\"Mask {ratio*100}% | Val Loss: {loss:.6f}\")\n",
        "\n",
        "plt.show()"
      ],
      "metadata": {
        "colab": {
          "base_uri": "https://localhost:8080/",
          "height": 763
        },
        "id": "74zDJbVbpVV8",
        "outputId": "1629faf9-5d96-4fa9-c5c3-8440b4b732e3"
      },
      "execution_count": 19,
      "outputs": [
        {
          "output_type": "stream",
          "name": "stderr",
          "text": [
            "\u001b[34m\u001b[1mwandb\u001b[0m: Sorting runs by +summary_metrics.val_loss\n"
          ]
        },
        {
          "output_type": "stream",
          "name": "stdout",
          "text": [
            "=== Best Run ===\n",
            "Config: {'lr': 0.00017914679151663596, 'nhead': 8, 'epochs': 50, 'd_model': 256, 'batch_size': 64, 'mask_ratio': 0.1, 'num_layers': 2}\n",
            "Best Val Loss: 0.0005188344085440975\n",
            "\n",
            "=== Performance by Mask Ratio ===\n",
            "Mask 10.0% | Val Loss: 0.000942\n",
            "Mask 20.0% | Val Loss: 0.003172\n",
            "Mask 30.0% | Val Loss: 0.010433\n"
          ]
        },
        {
          "output_type": "display_data",
          "data": {
            "text/plain": [
              "<Figure size 1500x600 with 2 Axes>"
            ],
            "image/png": "[encoded data removed]"
          },
          "metadata": {}
        }
      ]
    }
  ]
}